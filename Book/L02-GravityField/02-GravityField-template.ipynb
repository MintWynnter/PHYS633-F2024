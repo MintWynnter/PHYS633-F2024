{
  "cells": [
    {
      "cell_type": "markdown",
      "metadata": {
        "id": "iP-1xWLtiick"
      },
      "source": [
        "# <font color='purple'>02-GravityField</font> (template)"
      ]
    },
    {
      "cell_type": "markdown",
      "metadata": {
        "id": "kEILE_6CtGNz"
      },
      "source": [
        "## For reference: inserting images in Colab text files:\n",
        "\n",
        "\n"
      ]
    },
    {
      "cell_type": "markdown",
      "metadata": {
        "id": "NuuVGn-NwBKf"
      },
      "source": [
        "There are two ways to insert images in markdown format in the text cells:\n",
        "\n",
        "Quick direct markdown format:\n",
        "```\n",
        "![](Image url)\n",
        "```\n",
        "or html codes which allows more formatting options\n",
        "\n",
        "```\n",
        "<img src=\"url\" width=\"500\"> \n",
        "\n",
        "```\n"
      ]
    },
    {
      "cell_type": "markdown",
      "metadata": {
        "id": "eAqXGikztYdx"
      },
      "source": [
        "### If the image is hosted on GitHub:"
      ]
    },
    {
      "cell_type": "markdown",
      "metadata": {
        "id": "I32g5lcOtdfI"
      },
      "source": [
        "The link to the file on your GitHub will have this url (from the top bar):\n",
        "\n",
        "````\n",
        "https://github.com/veropetit/PHYS633-F2024/blob/main/Book/logo.png\n",
        "````\n",
        "\n",
        "But to embed it, you will need to add `?raw=true` at the end of the url. \n",
        "\n",
        "```` \n",
        "<img src=\"https://github.com/veropetit/PHYS633-F2024/blob/main/Book/logo.png?raw=true\" width=\"500\">\n",
        "````\n",
        "\n",
        "<img src=\"https://github.com/veropetit/PHYS633-F2024/blob/main/Book/logo.png?raw=true\" width=\"100\"> "
      ]
    },
    {
      "cell_type": "markdown",
      "metadata": {
        "id": "gAot44aPuzQc"
      },
      "source": [
        "### If the image is hosted on your Google Drive:"
      ]
    },
    {
      "cell_type": "markdown",
      "metadata": {
        "id": "z3FBdXTgrXUy"
      },
      "source": [
        "First you will need to get a sharable link from Google Drive (make sure that the link is 'viewable for everyone with the link'.\n",
        "\n",
        "For example, here's the sharable link to an image:\n",
        "```\n",
        "https://drive.google.com/file/d/1h7kgzG-uFEEg2RYr3iRnrRVV7zTDuf_L/view?usp=sharing\n",
        "```\n",
        "You will now need to change this link to embed the image. You need the image ID, which in this case is: `1h7kgzG-uFEEg2RYr3iRnrRVV7zTDuf_L`\n",
        "\n",
        "Then you can put this into a html image code like this:\n",
        "```\n",
        "<img src=\"https://drive.google.com/thumbnail?id=1h7kgzG-uFEEg2RYr3iRnrRVV7zTDuf_L&sz=s4000\" width=\"100\">\n",
        "```\n",
        "\n",
        "<img src=\"https://drive.google.com/thumbnail?id=1h7kgzG-uFEEg2RYr3iRnrRVV7zTDuf_L&sz=s4000\" width=\"100\">\n"
      ]
    },
    {
      "cell_type": "markdown",
      "metadata": {
        "id": "27ry8Hfiiicp"
      },
      "source": [
        "## We start by importing the modules\n",
        "* Numpy -- operations on arrays and matrixes (and pi)\n",
        "* Matplotlib pyplot -- plotting library"
      ]
    },
    {
      "cell_type": "code",
      "execution_count": 1,
      "metadata": {
        "collapsed": true,
        "id": "hhMbwm7Riicq"
      },
      "outputs": [],
      "source": [
        "import numpy as np\n",
        "\n",
        "import matplotlib.pyplot as plt\n",
        "%matplotlib inline \n",
        "# This option enables plots to be inline, \n",
        "# as opposed to opening in a separate window."
      ]
    },
    {
      "cell_type": "markdown",
      "metadata": {
        "id": "cb_5mrNOiics"
      },
      "source": [
        "## 1. We will make a plot of the enclosed mass ($M_r$) and the gravitational acceleration ($g$) as a function of position inside the star ($r$)."
      ]
    },
    {
      "cell_type": "markdown",
      "metadata": {},
      "source": [
        "In class, we derived the \"continuity equation\" \n",
        "\n",
        "$$\\frac{dM_r(r)}{dr}=4\\pi r^2 \\rho(r).$$\n",
        "\n",
        "In itself, we cannot yet solve for the structure of a star from this equation alone, because there are two quantities we do not know. As we will see in the next lecture, the fight between gravity and pressure (the \"hydrostatic equilibrium\") will provide another equation that links the enclosed mass (through gravity) to the pressure. \n",
        "\n",
        "But for now, the **goal of this notebook** is to \n",
        "1. get a sense of how $M_r$ and $g(r)$ relates to the density. \n",
        "2. get some practice in solving our differential equations of structure (like the continuity equation). \n",
        "\n",
        "So in this notebook, we will pretend (for a moment) that we know how the density vary inside of a star and see what the resulting $M_r(r)$ and $g(r)$ would look like. \n"
      ]
    },
    {
      "cell_type": "markdown",
      "metadata": {
        "id": "Vf-25cXl_-1L"
      },
      "source": [
        "### a. In class (left plot for constant density)"
      ]
    },
    {
      "cell_type": "markdown",
      "metadata": {
        "id": "1KQwmTM4iics"
      },
      "source": [
        "> <font color='blue'>Below I am showing you an example of a solution write-up for your notebook. As you can see, it is possible to type equations in latex, and include figure. In your write-up, I do not need (or want!) to see the purely algebra steps, and you can directly give the solution of unit-less integrals (after all, this is what Wolfram Alpha is for!)</font>\n",
        "\n",
        "We know from the continuity equation that $dM_r=4\\pi r^2 \\rho(r) dr$. If we make a guess that the density is constant ($rho(r) = \\rho_0$), we can find the mass enclosed mass by integrating the continuity equation on both sides. We will use the boundary condition that $M_r=0$ when $r=0$\n",
        "\n",
        "$$ \\int_{M_r=0}^{M_r} dM_r = \\int_{r=0}^{r} 4\\pi\\rho_o r^2 dr$$\n",
        "\n",
        "On the right side of the equation, I make a change of variable $x=r/R_\\star$ and pull all of the constant outside of the integral.  <font color='blue'>\n",
        "> (This is what I mean by \"I don't need to see the purely algebra steps\")</font>:\n",
        "\n",
        "$$ M_r - 0 = 4\\pi \\rho_o R_\\star^3 \\int_{x=0}^x  x^{2} dx $$\n",
        "\n",
        "> **TODO**: finish writing up the solution for $M_r(r)/M_\\star$ and $g(r)/g_\\star$ for the constent density case "
      ]
    },
    {
      "cell_type": "markdown",
      "metadata": {
        "id": "Uz_E6Fs9AnEs"
      },
      "source": [
        "### b. At home (right plot for linearly decreasing density)"
      ]
    },
    {
      "cell_type": "markdown",
      "metadata": {
        "id": "7PHZKlHAiict"
      },
      "source": [
        "For our second plot, let imagine that the density varies like \n",
        "\n",
        "$$\\rho = \\rho_o \\left( 1-\\frac{r}{R_\\star} \\right),$$\n",
        "where $\\rho_o$ is a constant.\n",
        "\n",
        "> **TODO** <font color='red'>: Make the calculations below. Use Latex formatting to render the math (I give an example of what I am looking for in part a.)</font>\n",
        "> 1. Calculate and plot $M_r/M_\\star$, and $g/g_\\star$.\n",
        "> 2. Calculate (you can do the numerical calculation in the code below) the value of $\\rho_o$ that our model implies if the star as a mass of $1M_\\odot$ and a radius of $1R_\\odot$\n",
        "> 2. Analytically find at which $r/R_\\star$ is $g$ at its maximum, and add a vertical line at this position.\n"
      ]
    },
    {
      "cell_type": "markdown",
      "metadata": {
        "id": "_mnvk_nBAxCl"
      },
      "source": [
        "### c. Code block for 1.a and 1.b\n",
        "\n",
        "> **TODO** <font color='red'>: Add a plot of $M_r/M_\\star$, and $g/g_\\star$ (that you calculated in part b.1 above), in the right-hand panel. Add a vertical line at the $r/R_\\star$ position at which $g$ is at its maximum.</font>"
      ]
    },
    {
      "cell_type": "code",
      "execution_count": 2,
      "metadata": {
        "colab": {
          "base_uri": "https://localhost:8080/",
          "height": 459
        },
        "id": "9HJtqL43iicu",
        "outputId": "cb8d599f-71f0-4ffb-f77b-2b6e39037dd8"
      },
      "outputs": [
        {
          "name": "stderr",
          "output_type": "stream",
          "text": [
            "No artists with labels found to put in legend.  Note that artists whose label start with an underscore are ignored when legend() is called with no argument.\n",
            "No artists with labels found to put in legend.  Note that artists whose label start with an underscore are ignored when legend() is called with no argument.\n"
          ]
        },
        {
          "data": {
            "image/png": "[encoded data removed]",
            "text/plain": [
              "<Figure size 1100x600 with 2 Axes>"
            ]
          },
          "metadata": {},
          "output_type": "display_data"
        }
      ],
      "source": [
        "fig, ax = plt.subplots(1,2, figsize=(11,6))\n",
        "# The subplot routine creates a figure object (in the variable \"fig\"), which contains\n",
        "# and an array (here 2 plots) of plotting windows called \"axes\" (in the variable \"ax\")\n",
        "\n",
        "plt.rcParams.update({'font.size': 18})\n",
        "plt.rcParams.update({'font.family': 'Times New Roman'})\n",
        "# Set the font and font size for the whole figure.\n",
        "\n",
        "for item in ax:\n",
        "    item.set_xlabel(r'$r/R_\\star$') # the \"r\" is to say there is latex formatted strings.\n",
        "    item.set_xlim(0,1)\n",
        "    item.set_ylabel(r'$\\rho/\\rho_c, M_r/M_\\star, g/g_\\star$') \n",
        "    item.set_ylim(0,1.5)\n",
        "# ax is an vector of plot objects.\n",
        "# we use a loop to set the title and limits of all plots to the same values\n",
        "\n",
        "ax[0].set_title('Constant density')\n",
        "ax[1].set_title(r'$\\rho = \\rho_c(1- r/R_\\star)$')\n",
        "\n",
        "#-----------------------------------------------------\n",
        "#-----------------------------------------------------\n",
        "\n",
        "#-----------------------------------------------------\n",
        "# Part to do in class\n",
        "#----\n",
        "\n",
        "##################\n",
        "# constant density\n",
        "##################\n",
        "\n",
        "\n",
        "\n",
        "\n",
        "####################\n",
        "# Decreasing density at home\n",
        "####################\n",
        "\n",
        "\n",
        "\n",
        "\n",
        "#-----------------------------------------------------\n",
        "# At home, add the curves for the g(s). \n",
        "# Analytically find at which r/Rstar is g at its maximum, and add a vertical line at this position.\n",
        "#----\n",
        "\n",
        "\n",
        "\n",
        "\n",
        "\n",
        "#-----------------------------------------------------\n",
        "#-----------------------------------------------------\n",
        "#------------------------------------------------------\n",
        "for item in ax:\n",
        "    item.legend(loc=0, fontsize=15)\n",
        "plt.tight_layout()\n",
        "# arrange the plot nicely"
      ]
    },
    {
      "cell_type": "markdown",
      "metadata": {
        "collapsed": true,
        "id": "b5nqalGjiicw"
      },
      "source": [
        "> **TODO**: <font color='red'>Please write a small paragraph with an interpretation of the result obtained:</font>"
      ]
    },
    {
      "cell_type": "markdown",
      "metadata": {
        "id": "0RQPMdOTjSrb"
      },
      "source": [
        "## 2. Learning reflection "
      ]
    },
    {
      "cell_type": "markdown",
      "metadata": {
        "id": "HfYIeZ7wjaSo"
      },
      "source": [
        "> **TODO**: <font color='red'>Please write a small reflection on what you have learned and why. \n",
        "> \n",
        "> Suggestions: how does this notebook provide practice for the learning goal of this lecture? how does this topic fits within the learning goals of this course (could be science and/or techniques!), and how does it relates to other things that you have learned in other courses? "
      ]
    }
  ],
  "metadata": {
    "anaconda-cloud": {},
    "colab": {
      "include_colab_link": true,
      "name": "02-GravityField.ipynb",
      "provenance": []
    },
    "kernelspec": {
      "display_name": "Python 3",
      "name": "python3"
    },
    "language_info": {
      "codemirror_mode": {
        "name": "ipython",
        "version": 3
      },
      "file_extension": ".py",
      "mimetype": "text/x-python",
      "name": "python",
      "nbconvert_exporter": "python",
      "pygments_lexer": "ipython3",
      "version": "3.9.18"
    }
  },
  "nbformat": 4,
  "nbformat_minor": 0
}
