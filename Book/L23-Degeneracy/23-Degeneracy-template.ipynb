{
  "cells": [
    {
      "cell_type": "markdown",
      "metadata": {
        "id": "OlfixXkrgI0a"
      },
      "source": [
        "## <font color=\"purple\">23-Degeneracy</font> (and radiation) pressure (template)"
      ]
    },
    {
      "cell_type": "code",
      "execution_count": 1,
      "metadata": {
        "colab": {
          "base_uri": "https://localhost:8080/"
        },
        "id": "e-ILkj3_gI0f",
        "outputId": "ed221aad-2a39-4d99-ecb2-f73924615707"
      },
      "outputs": [
        {
          "data": {
            "text/plain": [
              "<astropy.units.core._UnitContext at 0x1104e8ca0>"
            ]
          },
          "execution_count": 1,
          "metadata": {},
          "output_type": "execute_result"
        }
      ],
      "source": [
        "import numpy as np, copy\n",
        "import matplotlib.pyplot as plt\n",
        "%matplotlib inline\n",
        "from astropy import constants as const\n",
        "import astropy.units as u\n",
        "from astropy.units import cds\n",
        "cds.enable() "
      ]
    },
    {
      "cell_type": "markdown",
      "metadata": {
        "id": "3Uc1bQMcgI0i"
      },
      "source": [
        "## 0. To execute:\n",
        "\n",
        "Here are some models for the Sun, a M10 star, and the Sun towards the end of its main sequence lifetime."
      ]
    },
    {
      "cell_type": "code",
      "execution_count": 2,
      "metadata": {
        "id": "_7lEOKQcgI0k"
      },
      "outputs": [],
      "source": [
        "def read_model(file):\n",
        "\n",
        "    return np.genfromtxt(file, skip_header=5, names=True)\n",
        "\n",
        "Msun    = read_model('https://raw.githubusercontent.com/veropetit/PHYS633-F2024/main/Book/L19-Convection/19-Sun-profile8.data')\n",
        "MsunOld = read_model('https://raw.githubusercontent.com/veropetit/PHYS633-F2024/main/Book/L23-Degeneracy/23-SunOld-profile15.data')\n",
        "M10     = read_model('https://raw.githubusercontent.com/veropetit/PHYS633-F2024/main/Book/L19-Convection/19-M10-profile8.data')"
      ]
    },
    {
      "cell_type": "markdown",
      "metadata": {
        "id": "IRBIgw1AgI0m"
      },
      "source": [
        "## 1. In Class: Degeneracy pressure in normal stars\n",
        "\n",
        "We will explore the transision zones between ideal gas pressure, non-relativistic degenerate pressure, and relativistic degenerate pressure, in a $\\log T$-$\\log\\rho$ diagram. \n",
        "\n",
        "We will use the fill_between function to highlight the regions where the degeneracy pressure (non-relativistic and relativistic should dominate. \n",
        "\n",
        "We will also add the $\\rho-T$ profiles for a solar model, a 10 Msun model, and a model of the sun towards the end of the hydrogen-burning phase. \n",
        "\n",
        "**In the next class** we will also add the transition region for radiation pressure. \n",
        "\n",
        "> **TODO**: On the graph, add a vertical line to show the mean density of a white dwarf with the same mass as the sun, and the same radius as the Earth."
      ]
    },
    {
      "cell_type": "code",
      "execution_count": 3,
      "metadata": {
        "colab": {
          "base_uri": "https://localhost:8080/",
          "height": 414
        },
        "id": "ajqZjwuHgI0o",
        "outputId": "a7538da6-8798-4a9b-9bbb-7bd2ae2d1be9"
      },
      "outputs": [
        {
          "data": {
            "text/plain": [
              "Text(0, 0.5, '$\\\\log(T)$')"
            ]
          },
          "execution_count": 3,
          "metadata": {},
          "output_type": "execute_result"
        },
        {
          "data": {
            "image/png": "[encoded data removed]",
            "text/plain": [
              "<Figure size 800x600 with 1 Axes>"
            ]
          },
          "metadata": {},
          "output_type": "display_data"
        }
      ],
      "source": [
        "fig, ax = plt.subplots(1,1, figsize=(8,6))\n",
        "ax.set_xlim(-6,10)\n",
        "ax.set_ylim(3,10)\n",
        "\n",
        "## We set the electronic mean molecular weigth to approximatively 2,\n",
        "## which is more appropriate for regions where the hydrogen is depleted. \n",
        "## So note that in reality the boundaries can shift a little bit. \n",
        "mu_e = 2.0\n",
        "\n",
        "###################################\n",
        "###################################\n",
        "# In class\n",
        "\n",
        "\n",
        "\n",
        "\n",
        "\n",
        "###################################\n",
        "###################################\n",
        "# At home\n",
        "\n",
        "\n",
        "#-------------------\n",
        "plt.rcParams.update({'font.size': 18})\n",
        "ax.set_xlabel(r'$\\log(\\rho)$')\n",
        "ax.set_ylabel(r'$\\log(T)$')"
      ]
    },
    {
      "cell_type": "markdown",
      "metadata": {
        "id": "qwDs3ropgI0q"
      },
      "source": [
        "> **TODO**: write a caption for your graph (make sure to also include the radiation pressure that we will add in the next lecture). Comment on which type of stars are more likely to have important degeneracy/radiation pressure (also, where in the star). "
      ]
    },
    {
      "cell_type": "markdown",
      "metadata": {
        "id": "p2AcPO--gI0r"
      },
      "source": [
        "## 2. At home: Use the properties of polytrope to understand non-relativistic white dwarfs\n",
        "\n",
        "White dwarfs are the remnant of solar mass object, once the fusion stops. WD are generally made of elements heavier than He, e.g. carbon or oxygen depending on their evolution. \n",
        "In the case were no H or He is present in a gas, the electronic mean molecular weigth $\\mu_e\\sim2$.\n",
        "\n",
        "These objects remain in hydrostatic equilibrium because of non-relativistic degeneracy pressure, of the form\n",
        "\n",
        "$$P_e = 1.00\\times10^{13}\\left(\\frac{\\rho}{\\mu_e}\\right)^{5/3}.$$\n",
        "\n",
        "The numerical constant is such that the pressure is in dyn/cm2 for a density given in g/cm3.\n",
        "\n",
        "You probably notice that the pressure does not depend on temperature, just like a polytrop! \n",
        "\n",
        "This would correspond to a polytrop of index $n=3/2$, with $K = 1.00\\times10^{13}/\\mu_e^{5/3}$. For such a polytrop, $\\epsilon_1=3.654$, and $(-\\theta(\\epsilon_1)')=0.20330$, according to Henson Table 7.1.\n",
        "\n",
        "> **TODO**\n",
        ">\n",
        "> a. Use the property of polytrops to find an expression for $M_\\star$ as a function of only $R_\\star$ and $K$ (and constants such as $G$ and $\\epsilon_1$ etc). Show your work here. \n",
        ">\n",
        "> b. If you have not already done so in a), evaluate the numerical constants such that you get an equation for the mass in solar units if you give the radius in solar units. \n",
        ">\n",
        "> c. Make a plot of the WD radius as a function of mass for a selection of masses between, say, 0.1 and 10 Msun. "
      ]
    },
    {
      "cell_type": "code",
      "execution_count": 4,
      "metadata": {
        "id": "LGOtsM7hgI0s"
      },
      "outputs": [],
      "source": [
        "###################################\n",
        "###################################\n",
        "# At home\n",
        "\n"
      ]
    },
    {
      "cell_type": "markdown",
      "metadata": {
        "id": "6MAwdG3TgI0t"
      },
      "source": [
        "> **TODO**: Write a caption for your figure. Comment on the relationship between the radius and the mass of a non-relativistic white dwarf -- how is it similar/different from main sequence stars? (you may want to look at the Open Stack astronomy textbook, to see how the radius of main sequence stars changes with mass). "
      ]
    },
    {
      "cell_type": "markdown",
      "metadata": {
        "id": "KVYCLpdygI0t"
      },
      "source": [
        "## 3. At home: Do the same as #2, for a relativistic white dwarf.\n",
        "\n",
        "> **TODO**: show your work below"
      ]
    },
    {
      "cell_type": "code",
      "execution_count": 5,
      "metadata": {
        "collapsed": true,
        "id": "TUO8SDnUgI0t"
      },
      "outputs": [],
      "source": [
        "###################################\n",
        "###################################\n",
        "# At home"
      ]
    },
    {
      "cell_type": "markdown",
      "metadata": {
        "collapsed": true,
        "id": "1aZd3m-xgI0u"
      },
      "source": [
        "> **TODO** provide an interpretation of your result (hint: as a white dwarf becomes more massive, it becomes more and more relativistic). "
      ]
    },
    {
      "cell_type": "code",
      "execution_count": null,
      "metadata": {
        "collapsed": true,
        "id": "MWGTEUDVgI0u"
      },
      "outputs": [],
      "source": []
    }
  ],
  "metadata": {
    "anaconda-cloud": {},
    "colab": {
      "collapsed_sections": [],
      "include_colab_link": true,
      "name": "21-Degeneracy.ipynb",
      "provenance": []
    },
    "kernelspec": {
      "display_name": "Python 3",
      "name": "python3"
    },
    "language_info": {
      "codemirror_mode": {
        "name": "ipython",
        "version": 3
      },
      "file_extension": ".py",
      "mimetype": "text/x-python",
      "name": "python",
      "nbconvert_exporter": "python",
      "pygments_lexer": "ipython3",
      "version": "3.9.18"
    }
  },
  "nbformat": 4,
  "nbformat_minor": 0
}
