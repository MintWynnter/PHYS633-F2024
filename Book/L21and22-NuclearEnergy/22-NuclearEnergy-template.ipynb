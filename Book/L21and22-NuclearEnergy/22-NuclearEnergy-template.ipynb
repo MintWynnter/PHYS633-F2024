{
  "cells": [
    {
      "cell_type": "markdown",
      "metadata": {
        "id": "MA1gDysruSei"
      },
      "source": [
        "## <font color=\"purple\">22-NuclearEnergy </font> (template)"
      ]
    },
    {
      "cell_type": "code",
      "execution_count": 1,
      "metadata": {
        "colab": {
          "base_uri": "https://localhost:8080/"
        },
        "id": "FLRL6DI0uSem",
        "outputId": "c2e1c43f-2333-4643-fccf-71e61314ac7e"
      },
      "outputs": [
        {
          "data": {
            "text/plain": [
              "<astropy.units.core._UnitContext at 0x105f87370>"
            ]
          },
          "execution_count": 1,
          "metadata": {},
          "output_type": "execute_result"
        }
      ],
      "source": [
        "import numpy as np, copy\n",
        "import matplotlib.pyplot as plt\n",
        "%matplotlib inline\n",
        "from astropy import constants as const\n",
        "import astropy.units as u\n",
        "from astropy.units import cds\n",
        "cds.enable() "
      ]
    },
    {
      "cell_type": "markdown",
      "metadata": {
        "id": "RkQ6a-RpuSep"
      },
      "source": [
        "## 1. At home: pp vs CNO rates\n",
        "\n",
        "> **TODO**\n",
        "> 1. Make a plot of $\\log(\\epsilon)$ as a function of $\\log(T)$ for the PP-I chain and the CNO cycle, based on the expression given in class (from Kip 18.5.1). Use the temperature range already given in the code below.\n",
        ">\n",
        "> 2. In both cases (PP-I and CNO), by how much does the $\\epsilon$ changes for a change of temperature of one order of magnitude?\n",
        ">\n",
        ">3. If you were to reproduce $\\epsilon$ in the range of temperature below by a power law of the form $\\epsilon \\propto T^\\nu$, what would the index $\\nu$ of the power law be? (Graph a curve to find your answer.)"
      ]
    },
    {
      "cell_type": "code",
      "execution_count": 2,
      "metadata": {
        "colab": {
          "base_uri": "https://localhost:8080/",
          "height": 269
        },
        "id": "LMF4lYG6uSeq",
        "outputId": "c9ad7403-eee1-42f5-d4e4-3eabcfb9593b"
      },
      "outputs": [
        {
          "data": {
            "image/png": "[encoded data removed]",
            "text/plain": [
              "<Figure size 640x480 with 1 Axes>"
            ]
          },
          "metadata": {},
          "output_type": "display_data"
        }
      ],
      "source": [
        "fig, ax = plt.subplots(1,1)\n",
        "ax.set_ylim(-5,6)\n",
        "\n",
        "logT = np.linspace(6,8,50)\n",
        "\n",
        "\n",
        "#########################\n",
        "# At home\n",
        "\n",
        "\n"
      ]
    },
    {
      "cell_type": "markdown",
      "metadata": {
        "id": "WdMHPp05uSer"
      },
      "source": [
        "> **TODO**: Write a caption for your graph, and answer the questions asked."
      ]
    },
    {
      "cell_type": "markdown",
      "metadata": {
        "id": "EDaBEXgouSer"
      },
      "source": [
        "## 2. Let's look at the energy generation in our MESA models\n",
        "\n"
      ]
    },
    {
      "cell_type": "markdown",
      "metadata": {
        "id": "iuczWWf0vyR-"
      },
      "source": [
        "### Reading in the models\n",
        "\n",
        "First, use the cell below to read in the two MESA models from the convection notebook for the Sun (in variable `Msun`) and for a 10 $M_\\odot$ star (in variable `M10`). "
      ]
    },
    {
      "cell_type": "code",
      "execution_count": 3,
      "metadata": {
        "id": "8yAlXCgHuSes"
      },
      "outputs": [],
      "source": [
        "def read_model(file):\n",
        "\n",
        "    return np.genfromtxt(file, skip_header=5, names=True)\n",
        "\n",
        "Msun = read_model('https://raw.githubusercontent.com/veropetit/PHYS633-F2024/main/Book/L19-Convection/19-Sun-profile8.data')\n",
        "M10  = read_model('https://raw.githubusercontent.com/veropetit/PHYS633-F2024/main/Book/L19-Convection/19-M10-profile8.data')"
      ]
    },
    {
      "cell_type": "markdown",
      "metadata": {
        "id": "LoOYiRG9vs2V"
      },
      "source": [
        "### 1. In class: we will look at the energy generation in the Solar model.\n",
        "\n",
        "In MESA, the column named `eps_nuc` gives the total power per gram coming from all of the nuclear reactions. The columns `pp` and `cno` give the power/g coming from the PP (I, II, and III) chains and the CNO cycle, respectively. \n",
        "\n",
        "We will make a gapph of $\\epsilon_\\mathrm{nuc}$, $\\epsilon_\\mathrm{pp}$ and $\\epsilon_\\mathrm{cno}$ as a function of radius, and then compare the values in MESA with the values we get from the formula given in the textbook.\n",
        "\n",
        "### At home:\n",
        "\n",
        "> **TODO** \n",
        "> 1. On the left graph, add curves for the $\\epsilon_\\mathrm{nuc}$, $\\epsilon_\\mathrm{pp}$ and $\\epsilon_\\mathrm{cno}$ given by the MESA model. \n",
        ">\n",
        "> 2. Make a similar plot for the 10 $M_\\odot$ model on the right graph. \n",
        ">\n",
        "> 3. In the interpretation box below, comment on the similarities/differences between the two models.\n",
        ">\n",
        "> 4. Use the analytical expression for $\\epsilon_\\mathrm{pp-1}$ and $\\epsilon_\\mathrm{cno}$ from Part 1 to calculate your expected values for $\\epsilon_\\mathrm{pp-1}$ and $\\epsilon_\\mathrm{cno}$ in both models, and add these curves to your plots. In the MESA model, you will some useful columns such as:\n",
        ">    * `logRho` for the logarithm10 of the density in g/cm2\n",
        ">    * `logT` for the logarithm10 of the temperature in K\n",
        ">    * `h1` for the mass fraction of hydrogen\n",
        ">    * `c12`, `n14`, `o16`,`o18` for the mass fraction of important isotopes of carbon, nitrogen, and oxygen.\n",
        ">\n",
        "> 5. In the interpretation box below, compare your calculation in #4 to the real $\\epsilon$ in the models. If there are any differences, comment on what could explain these discrepencies. "
      ]
    },
    {
      "cell_type": "code",
      "execution_count": 5,
      "metadata": {
        "colab": {
          "base_uri": "https://localhost:8080/",
          "height": 496
        },
        "id": "OmHF6xIDuSet",
        "outputId": "2e3f5ccb-b837-4d0d-ccdc-f2cb42c54955"
      },
      "outputs": [
        {
          "data": {
            "image/png": "[encoded data removed]",
            "text/plain": [
              "<Figure size 1200x550 with 2 Axes>"
            ]
          },
          "metadata": {},
          "output_type": "display_data"
        }
      ],
      "source": [
        "fig, ax = plt.subplots(1,2, figsize=(12,5.5))\n",
        "\n",
        "ax[0].set_title('Sun')\n",
        "ax[1].set_title(r'10 M$_\\odot$')\n",
        "\n",
        "ax[0].set_xlabel('$r$ ($R_\\odot$)')\n",
        "ax[1].set_xlabel('$r$ ($R_\\odot$)')\n",
        "\n",
        "ax[0].set_ylabel('erg/g')\n",
        "ax[1].set_ylabel('erg/g')\n",
        "\n",
        "plt.tight_layout()\n",
        "\n",
        "\n",
        "#########################\n",
        "# In class\n",
        "\n",
        "\n",
        "\n",
        "\n",
        "#########################\n",
        "# At home\n",
        "\n",
        "\n"
      ]
    },
    {
      "cell_type": "markdown",
      "metadata": {
        "id": "gMv2aqtwuSew"
      },
      "source": [
        "> **TODO** Write a caption for your graph, and answer the questions asked. "
      ]
    },
    {
      "cell_type": "code",
      "execution_count": null,
      "metadata": {
        "id": "we4lWGRXzDTT"
      },
      "outputs": [],
      "source": []
    }
  ],
  "metadata": {
    "anaconda-cloud": {},
    "colab": {
      "collapsed_sections": [],
      "include_colab_link": true,
      "name": "20-NuclearReactions.ipynb",
      "provenance": []
    },
    "kernelspec": {
      "display_name": "Python 3",
      "name": "python3"
    },
    "language_info": {
      "codemirror_mode": {
        "name": "ipython",
        "version": 3
      },
      "file_extension": ".py",
      "mimetype": "text/x-python",
      "name": "python",
      "nbconvert_exporter": "python",
      "pygments_lexer": "ipython3",
      "version": "3.9.18"
    }
  },
  "nbformat": 4,
  "nbformat_minor": 0
}
