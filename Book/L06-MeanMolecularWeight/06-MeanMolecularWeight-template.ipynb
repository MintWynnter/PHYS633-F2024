{
  "cells": [
    {
      "cell_type": "markdown",
      "metadata": {
        "id": "lfvgGBkwXawK"
      },
      "source": [
        "# <font color='purple'>06-MeanMolecularWeight</font> (template)"
      ]
    },
    {
      "cell_type": "markdown",
      "metadata": {
        "id": "1GU67JivXawP"
      },
      "source": [
        "We start by importing the modules\n",
        "* Numpy -- operations on arrays and matrixes (and pi)\n",
        "* Matplotlib pyplot -- plotting library\n",
        "* Astropy units -- defined quantities with units. We also import the CDS conversions"
      ]
    },
    {
      "cell_type": "code",
      "execution_count": 1,
      "metadata": {
        "colab": {
          "base_uri": "https://localhost:8080/"
        },
        "id": "QjGDDnKaXawQ",
        "outputId": "2b3ca42f-8d16-4dfa-8201-b59fb4df22df"
      },
      "outputs": [
        {
          "data": {
            "text/plain": [
              "<astropy.units.core._UnitContext at 0x10815a760>"
            ]
          },
          "execution_count": 1,
          "metadata": {},
          "output_type": "execute_result"
        }
      ],
      "source": [
        "import numpy as np\n",
        "\n",
        "import matplotlib.pyplot as plt\n",
        "%matplotlib inline \n",
        "from astropy import constants as const\n",
        "import astropy.units as u\n",
        "from astropy.units import cds\n",
        "cds.enable() "
      ]
    },
    {
      "cell_type": "markdown",
      "metadata": {
        "id": "lH_cpVIzXawT"
      },
      "source": [
        "## 1. In class: Solar abundances\n",
        "\n",
        "In the 05-Grevesse.txt file, you will find a tabulation of the solar abundances for the first 30 elements that looks like this:\n",
        "\n",
        "<div style=\"width:600px;height:200px;padding:2px;border:1px dotted black;\">\n",
        "<PRE> \n",
        "# Abundance from Grevesse\t\t\t\t\t\n",
        "Z   A       Element   NumberFraction    logAbund    X\n",
        "1   1.0079  H         1.00E+00          1.20E+01    7.04E-01\n",
        "2   4.0026  He        1.00E-01          1.10E+01    2.80E-01\n",
        "3   6.941   Li        1.26E-11          1.10E+00    6.10E-11\n",
        "4   9.0122  Be        2.51E-11          1.40E+00    1.58E-10\n",
        "....\n",
        "</PRE>\n",
        "</div>"
      ]
    },
    {
      "cell_type": "markdown",
      "metadata": {
        "id": "9Dyv_TpBZ9fa"
      },
      "source": [
        "### a. We will first learn how to read in a data file, using a Numpy function"
      ]
    },
    {
      "cell_type": "code",
      "execution_count": 12,
      "metadata": {
        "id": "19QdZVKKXawT"
      },
      "outputs": [
        {
          "name": "stdout",
          "output_type": "stream",
          "text": [
            "[('Z', '<i8'), ('A', '<f8'), ('Element', '<U8'), ('NumberFraction', '<f8'), ('logAbund', '<f8'), ('X', '<f8')]\n"
          ]
        }
      ],
      "source": [
        "dtype=\"i8,f8,|U8,f8,f8,f8\"\n",
        "# If using \"S8\" for the element string, \n",
        "# numpy will use bytestring, which need to be decoded\n",
        "# before using in mathplotlib -- using U8 here instead\n",
        "url = 'https://raw.githubusercontent.com/veropetit/PHYS633-F2024/main/Book/L06-MeanMolecularWeight/06-Grevesse.txt'\n",
        "#---------------------------------------\n",
        "#---------------------------------------\n",
        "# In class\n",
        "\n",
        "# How to read a data file\n",
        "\n"
      ]
    },
    {
      "cell_type": "markdown",
      "metadata": {
        "id": "dV9Vq0lTXawU"
      },
      "source": [
        "### b. Now let's see what the abundance pattern looks like"
      ]
    },
    {
      "cell_type": "code",
      "execution_count": 3,
      "metadata": {
        "colab": {
          "base_uri": "https://localhost:8080/",
          "height": 287
        },
        "id": "3qfm7wFIXawW",
        "outputId": "3aa14191-9b97-44ce-a0da-9d23e9fbdcea"
      },
      "outputs": [
        {
          "data": {
            "text/plain": [
              "(0.0, 0.01)"
            ]
          },
          "execution_count": 3,
          "metadata": {},
          "output_type": "execute_result"
        },
        {
          "data": {
            "image/png": "[encoded data removed]",
            "text/plain": [
              "<Figure size 1000x400 with 1 Axes>"
            ]
          },
          "metadata": {},
          "output_type": "display_data"
        }
      ],
      "source": [
        "fig, ax = plt.subplots(1,1, figsize=(10,4))\n",
        "ax.set_ylim(0,0.01)\n",
        "\n",
        "#---------------------------------------\n",
        "#---------------------------------------\n",
        "# In class\n",
        "\n",
        "\n",
        "\n",
        "\n",
        "# We can set the labels in the plots to the name of the elements!\n"
      ]
    },
    {
      "cell_type": "markdown",
      "metadata": {
        "id": "t-VrJ62iXawY"
      },
      "source": [
        "> **TODO**: <font color='red'>Please write a small paragraph with an interpretation of the result obtained:</font>"
      ]
    },
    {
      "cell_type": "markdown",
      "metadata": {
        "id": "E8hlhfdoXawY"
      },
      "source": [
        "## 2. In class: what is the mean molecular weight for solar abundance?\n",
        "\n",
        "Let's calculate the value for the mean molecular weight using the $X_i$ in our abundance table. \n",
        "\n",
        "We found that:\n",
        "\n",
        "$$\\frac{1}{\\mu} = \\frac{1}{\\mu_\\mathrm{ion}} + \\frac{1}{\\mu_\\mathrm{e}},$$\n",
        "with\n",
        "\n",
        "$$\\frac{1}{\\mu_\\mathrm{ion}} = \\sum_i \\frac{X_i}{A_i}$$\n",
        "\n",
        "and\n",
        "\n",
        "$$\\frac{1}{\\mu_\\mathrm{e}} = \\sum_i \\frac{Z_i X_i}{A_i} y_i $$\n",
        "\n",
        "Let's consider two cases:\n"
      ]
    },
    {
      "cell_type": "markdown",
      "metadata": {
        "id": "TNSCAi92islf"
      },
      "source": [
        "### a. The gas is completely neutral\n",
        "\n",
        "> **TODO**: write a few words about how the equations above can be simplified for a completely neutral gas\n",
        "\n",
        "### b. The gas is completely ionized\n",
        "\n",
        "> **TODO**: write a few words about how the equations above can be simplified for a completely ionized gas"
      ]
    },
    {
      "cell_type": "code",
      "execution_count": 4,
      "metadata": {
        "id": "V2AgrHt4XawZ"
      },
      "outputs": [],
      "source": [
        "#---------------------------------------\n",
        "#---------------------------------------\n",
        "# In class\n",
        "\n"
      ]
    },
    {
      "cell_type": "markdown",
      "metadata": {
        "id": "hGLubOpOiMgF"
      },
      "source": [
        "> **TODO**: <font color='red'>Please write a small paragraph with an interpretation of the result obtained:</font>"
      ]
    },
    {
      "cell_type": "markdown",
      "metadata": {
        "collapsed": false,
        "id": "iLj6xR4tXawb"
      },
      "source": [
        "## 3. At home: What will $\\mu$ be at the center of the Sun once all the H is converted into He?\n",
        "\n",
        "> **TODO**: Make a calulation of the mean molecular weight in the core of the Sun, once all of the hydrogen has been converted into helium (remember, at the surface of the Sun where there is no nuclear reactions: $X$=70%, $Y$=28%, and $Z$=2%)\n",
        ">\n",
        "> You can use the approximations I gave in the last slide of the PDF class notes\n",
        ">\n",
        "> You can use the code cell below as a calculator, or you can do the calculation by hand."
      ]
    },
    {
      "cell_type": "code",
      "execution_count": 5,
      "metadata": {
        "id": "2FUflwUqXawb"
      },
      "outputs": [],
      "source": [
        "#---------------------------------------\n",
        "#---------------------------------------\n",
        "# At home\n",
        "\n"
      ]
    },
    {
      "cell_type": "markdown",
      "metadata": {
        "id": "tr11MpuEXawc"
      },
      "source": [
        "> **TODO**: <font color='red'>Please write a small paragraph with an interpretation of the result obtained:</font>"
      ]
    },
    {
      "cell_type": "markdown",
      "metadata": {
        "id": "qF8MyPgUXawc"
      },
      "source": [
        "## 4. At home: Finally, let's check what the mean molecular weight looks like inside of the sun\n",
        "\n",
        "### a. Let's use the MESA model to look at $\\mu$ as a function of radius inside of the Sun.\n",
        "\n",
        "> **TODO**: Based on the MESA model for the Sun, I provide an array `mu` that contains the mean molecular weigth. Create a plot of the mean molecular weight as a function of $r/R_\\star$. The corresponding array for the $r/R_\\star$ is called `r_rs`\n",
        "\n",
        "### b. In the interpretation, explain the shape of the curve\n",
        "\n",
        "You might find it interesting to look at the variation of the temperature `data['logT']` to help you with your interpretation -- you might find it enlightening!\n"
      ]
    },
    {
      "cell_type": "code",
      "execution_count": 6,
      "metadata": {
        "id": "sCboulEAXawc"
      },
      "outputs": [],
      "source": [
        "def read_model(file):\n",
        "    # Here's a function that reads it the MESA model.\n",
        "    cols = np.array([1,2,3,4,5,9,29,66])-1\n",
        "    return np.genfromtxt(file, skip_header=5, names=True, usecols = cols)\n",
        "# Reading the model\n",
        "data = read_model('https://raw.githubusercontent.com/veropetit/PHYS633-F2024/main/Book/L06-MeanMolecularWeight/06-MESAdatafile.txt')\n",
        "\n",
        "# Calculating mu using the density (in cgs), the temperature (in K) and the gas pressure \n",
        "mu = 10**data['logRho'] * u.g / u.cm**3 * const.k_B * 10**data['logT'] * u.K / (10**data['logPgas']*u.Ba) / const.u\n",
        "mu = mu.decompose() # Should be unitless.\n",
        "\n",
        "r_rs = 10**(data['logR']-data['logR'][0])\n",
        "\n",
        "#---------------------------------------\n",
        "#---------------------------------------\n",
        "# At home\n",
        "\n",
        "\n"
      ]
    },
    {
      "cell_type": "markdown",
      "metadata": {
        "collapsed": true,
        "id": "SdiewLfPXawd"
      },
      "source": [
        "> **TODO**: <font color='red'>Please write a small paragraph with an interpretation of the result obtained:</font>\n"
      ]
    },
    {
      "cell_type": "markdown",
      "metadata": {
        "id": "1Ado-P0K9mh3"
      },
      "source": [
        "## 5. Reading assignement: \"what can we measure about stars\" -- part 3\n",
        "In this graduate course, we are making an advanced physical and mathematical model of star.\n",
        "\n",
        "But it is still good to learn and/or remind ourselves about which physical characteristics of stars we can actually measure. You might have covered some of this in some details in previous physics or astro courses (at UD PHYS 133, 144, 333, or 469) -- but it is still a good idea to have a quick look at the suggested reading below before crafting your paragraph.\n",
        "\n",
        "One other thing that can be measured is the composition of a star's surface.\n",
        "\n",
        "> **TODO**: Have a look at section 5.3 Spectroscopy in Astronomy, 5.4\n",
        "The Structure of the Atom and/or 5.5 Formation of Spectral Lines of the Open Stack Astronomy online [textbook](https://openstax.org/books/astronomy/pages/5-2-the-electromagnetic-spectrum), and write a short conceptual paragraph about how astronomer can determine the composition of stars through spectra. "
      ]
    },
    {
      "cell_type": "code",
      "execution_count": null,
      "metadata": {
        "id": "ssBp8vVc-UNJ"
      },
      "outputs": [],
      "source": []
    }
  ],
  "metadata": {
    "anaconda-cloud": {},
    "colab": {
      "collapsed_sections": [
        "E8hlhfdoXawY",
        "iLj6xR4tXawb"
      ],
      "include_colab_link": true,
      "name": "05-MeanMolecularWeigth.ipynb",
      "provenance": []
    },
    "kernelspec": {
      "display_name": "py39",
      "language": "python",
      "name": "python3"
    },
    "language_info": {
      "codemirror_mode": {
        "name": "ipython",
        "version": 3
      },
      "file_extension": ".py",
      "mimetype": "text/x-python",
      "name": "python",
      "nbconvert_exporter": "python",
      "pygments_lexer": "ipython3",
      "version": "3.9.18"
    }
  },
  "nbformat": 4,
  "nbformat_minor": 0
}
