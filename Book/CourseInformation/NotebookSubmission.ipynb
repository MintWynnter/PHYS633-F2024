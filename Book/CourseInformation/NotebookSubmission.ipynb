{
 "cells": [
  {
   "cell_type": "markdown",
   "metadata": {},
   "source": [
    "# How to submit Notebooks\n",
    "\n",
    "We will use the Canvas integration of Gradescope for submission and feedback on Notebooks. \n",
    "\n",
    "This is my first time using gradescope -- from what I can tell, it works exceptionally well for giving feedback on student's work -- but there might be a bit of a learning curve for me especially in the administration part of things. \n",
    "\n",
    "> If you have used Gradescope in your work as TA or in your other classes and have suggestions for me, please don't be shy -- I would really appreciate them! \n",
    "\n",
    "You will need to create a PDF file from your notebook. \n",
    "\n",
    "Unfortunaly, the 'print-to-PDF' does not do a great job of formatting the notebook. Therefore please follow these instructions:\n",
    "\n",
    "## 1. Download a .ipynb from Google Colab\n",
    "\n",
    "(If you are working locally on your computer, you can skip this step)\n",
    "\n",
    "- 1a. Download you notebook to your computer using the **Colab menu** (and not the browser menu) <br> `File > Download > Download .ipynb`\n",
    " \n",
    "    <img src=\"https://raw.githubusercontent.com/veropetit/PHYS633-F2024/main/Book/CourseInformation/NotebookDownload.png\" width=\"400\" style=\"padding:1px;border:thin solid black;\"/>\n",
    "\n",
    "- 1b. Check the size of your downloaded file -- if it is 1kB only, it means that you used the browser menu instead of the Colab menu in the previous step.\n",
    "\n",
    "## 2. In **this webpage**, use the button to open this page in Colab\n",
    "\n",
    "- 2a. Use the button to open this webpage in Colab\n",
    "\n",
    "    <img src=\"https://raw.githubusercontent.com/veropetit/PHYS633-F2024/main/Book/CourseInformation/ColabButton.png\" height=\"100\" style=\"padding:1px;border:thin solid black;\"/>\n",
    "\n",
    "\n",
    "- 2b. Then click on the \"File Directory\" icon on the left\n",
    "\n",
    "    <img src=\"https://raw.githubusercontent.com/veropetit/PHYS633-F2024/main/Book/CourseInformation/OpenColabFile.png\" height=\"200\" style=\"padding:1px;border:thin solid black;\"/>\n",
    "\n",
    "\n",
    "- 2c. Drag the ipynb file to upload it to this Colab enviroment.\n",
    "\n",
    "    <img src=\"https://raw.githubusercontent.com/veropetit/PHYS633-F2024/main/Book/CourseInformation/UploadNotebookInColab.png\" height=\"300\" style=\"padding:1px;border:thin solid black;\"/>\n",
    "\n",
    "\n",
    "- 2d. In the code cell below, change the Filename for the name of your .ipynb file and run it to create a PDF file."
   ]
  },
  {
   "cell_type": "code",
   "execution_count": null,
   "metadata": {},
   "outputs": [],
   "source": [
    "!sudo apt-get install texlive texlive-latex-extra texlive-xetex pandoc\n",
    "!jupyter nbconvert --to pdf /content/[Insert your filename here].ipynb"
   ]
  },
  {
   "cell_type": "markdown",
   "metadata": {},
   "source": [
    "- 2e. The PDF file should appear in the left file bar. Right click to download. \n",
    "    <img src=\"https://raw.githubusercontent.com/veropetit/PHYS633-F2024/main/Book/CourseInformation/DownloadPDF.png\" width=\"400\" style=\"padding:1px;border:thin solid black;\"/>\n",
    "\n",
    "\n",
    "- 2f. **Make sure that all of the material is displayed properly**. If you have issues, don't hesitate to ask. "
   ]
  },
  {
   "cell_type": "markdown",
   "metadata": {},
   "source": [
    "> If you are working locally in your python environment instead of Colab, you can pip install or conda install the tetex package once, and covert your ipynb files directly using the code above. "
   ]
  },
  {
   "cell_type": "markdown",
   "metadata": {},
   "source": [
    "## 3. How to upload your PDF to Gradescope\n",
    "\n",
    "* 3a. Open the Canvas assigment and follow the prompt to upload your PDF file. \n",
    "\n",
    "* 3b. Gradescope will ask you to select pages for each \"Question\" in the assignement -- there is only one \"Question\", so select all of the pages in your PDF. "
   ]
  }
 ],
 "metadata": {
  "language_info": {
   "name": "python"
  }
 },
 "nbformat": 4,
 "nbformat_minor": 2
}
