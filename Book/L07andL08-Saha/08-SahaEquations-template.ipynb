{
  "cells": [
    {
      "cell_type": "markdown",
      "metadata": {
        "id": "PVRTD9LbAjQb"
      },
      "source": [
        "# <font color=\"purple\">08-SahaEquations</font> (template)"
      ]
    },
    {
      "cell_type": "markdown",
      "metadata": {
        "id": "sGhT_EDgAjQg"
      },
      "source": [
        "We start by importing the modules\n",
        "* Numpy -- operations on arrays and matrixes (and pi)\n",
        "* Matplotlib pyplot -- plotting library\n",
        "* Astropy units -- defined quantities with units. We also import the CDS conversions"
      ]
    },
    {
      "cell_type": "code",
      "execution_count": 1,
      "metadata": {
        "colab": {
          "base_uri": "https://localhost:8080/"
        },
        "id": "1Yg3RqasAjQg",
        "outputId": "797eed00-9d34-4787-9b8c-baecb7f9cc06"
      },
      "outputs": [
        {
          "data": {
            "text/plain": [
              "<astropy.units.core._UnitContext at 0x1040e8280>"
            ]
          },
          "execution_count": 1,
          "metadata": {},
          "output_type": "execute_result"
        }
      ],
      "source": [
        "import numpy as np\n",
        "\n",
        "import matplotlib.pyplot as plt\n",
        "%matplotlib inline \n",
        "from astropy import constants as const\n",
        "import astropy.units as u\n",
        "from astropy.units import cds\n",
        "cds.enable() "
      ]
    },
    {
      "cell_type": "markdown",
      "metadata": {
        "id": "nM8Felk9AjQj"
      },
      "source": [
        "## 0. Some functions that we will need later on.\n",
        "\n",
        "`U = partition_H(T, smax=1)` will return the partition function for neutral hydrogen ($H^o$) for a given array of temparature $T$, truncating the summation to the energy level $s_\\mathrm{max}$.\n",
        "\n",
        "`newE, x_i = trial_saha(E, T, Ptot, X=0.75, Y=0.25)` will solve for the relative concentration $x_i$ of a given ion in a mixture of H and H, for a guessed value of $E=n_e/n_\\mathrm{ion}$. It will also calculate the expected value of $E$ given the calculted $x_i$ with the help of equation #3 (in the slides) -- if it is different than the input value for $E$, it means that your guess was incorrect. "
      ]
    },
    {
      "cell_type": "markdown",
      "metadata": {
        "id": "0Sv7CZdoBGk-"
      },
      "source": [
        "### a. The partition function for neutral hydrogen is given by:\n",
        "\n",
        "\\begin{equation}\n",
        "u(T) = \\sum_{s=1}^\\infty 2s^2 e^{-E_s / kT}\n",
        "\\end{equation}\n",
        "where\n",
        "\\begin{equation}\n",
        "E_s = 13.6 \\mathrm{eV} \\left( 1-\\frac{1}{s^2}\\right).\n",
        "\\end{equation}\n",
        "\n",
        "However, because of interaction with other atoms, the sum has to be truncated to a certain maximum energy level $s_\\mathrm{max}$."
      ]
    },
    {
      "cell_type": "code",
      "execution_count": 2,
      "metadata": {
        "colab": {
          "base_uri": "https://localhost:8080/"
        },
        "id": "X4w_m9o2AjQj",
        "outputId": "fc38532b-e940-4a7e-b20f-0755da9fa5fe"
      },
      "outputs": [
        {
          "name": "stdout",
          "output_type": "stream",
          "text": [
            "For these values of temperatures:\n",
            "T= [ 5000.  8000. 30000.] K\n",
            "The partition function truncated to smax=3 is:\n",
            "[2.         2.00000344 2.32238626]\n",
            "The partition function truncated to smax=50 is:\n",
            "[  2.           2.00024106 450.48217529]\n"
          ]
        }
      ],
      "source": [
        "# Function definition, accept an array of temperatures\n",
        "# and an optional keyword to truncate the partition function\n",
        "\n",
        "def partition_H(T, smax=1):\n",
        "  '''Calculate the partition function for hydrogen\n",
        "\n",
        "  Args:\n",
        "      T: an array of temperatures in astropy unit.Kelvin\n",
        "\n",
        "  Keywords:\n",
        "      smax: level at which to truncate the summation (smax=1)\n",
        "\n",
        "   Returns:\n",
        "      The partition function for neutral hydrogen\n",
        "  '''\n",
        "\n",
        "  # C1 is 13.6 eV / k, in Kelvins\n",
        "  C1 = 157821.462518 * u.K\n",
        "    \n",
        "  sum = np.zeros(T.size) # initialize the sum (as an array if necessary)\n",
        "  for s in range(1,smax+1):\n",
        "    sum = sum + s**2 * np.exp(C1/T/s**2)\n",
        "        \n",
        "  return sum*2*np.exp(-1*C1/T)\n",
        "\n",
        "# Test the function\n",
        "\n",
        "T = np.array([5000.0, 8000.0, 30000.0]) * u.K\n",
        "print('For these values of temperatures:')\n",
        "print('T= {}'.format(T))\n",
        "print('The partition function truncated to smax=3 is:')\n",
        "print( partition_H(T, smax=3) )\n",
        "print('The partition function truncated to smax=50 is:')\n",
        "print( partition_H(T, smax=50) )"
      ]
    },
    {
      "cell_type": "markdown",
      "metadata": {
        "id": "IERS54rID0Xn"
      },
      "source": [
        "### b. A function to calculate the ionization fractions for a certain $E$.\n",
        "\n",
        "Below, I provide a function that solve for the ion fraction \n",
        "$x_{H}^{o}, x_{H}^{+}, x_{He}^{o}, x_{He}^{+}, x_{H}^{++}$ for a given $E$, <br>\n",
        "using a numpy function that solve a linear system of equation such that:<br>\n",
        "$M \\cdot x=b$.\n",
        "\n",
        "The function also return the $E$ value that would correspond to this solution:<br>\n",
        "$$ E = \\mu_\\mathrm{ion} \\left[X x_{H}^{+} + \\frac{Y}{4} (x_{He}^{+} + 2 x_{H}^{++} ) \\right],$$\n",
        "where $X$ and $Y$ are the mass fraction of H and He, respectively. \n",
        "\n",
        "In order to find the right solution, one must change the input value of $E$ until the function\n",
        "returns the same value. "
      ]
    },
    {
      "cell_type": "code",
      "execution_count": 3,
      "metadata": {
        "id": "5CHDXIk_D0mw"
      },
      "outputs": [],
      "source": [
        "# Calculate the numerical value of the constant in the equations\n",
        "#print( ( 13.6 * u.eV / const.k_B ).decompose() )\n",
        "#print( ( 24.5874 * u.eV / const.k_B ).decompose() ) # Ionization of He1\n",
        "#print( ( 54.4177 * u.eV / const.k_B ).decompose() ) # Ionization of He2\n",
        "\n",
        "def trial_saha(E, T, Ptot, X=0.75, Y=0.25):\n",
        "    # X and Y are the mass fraction of H and He.    \n",
        "        \n",
        "    # Define the constants in the equations directly, to save some \n",
        "    # computation time\n",
        "    CH = 157821.462518 * u.K\n",
        "    CHe = 285324.957906 * u.K\n",
        "    CHe2 = 631491.250064 * u.K\n",
        "    # Using tabulated partition function for low smax (high pressure)\n",
        "    # of course, calculations would be more complex for a \n",
        "    # self-consitent solution.\n",
        "    uH0 = 2.0\n",
        "    uH1 = 1.0\n",
        "    uHe0 = 1.0\n",
        "    uHe1 = 2.0\n",
        "    uHe2 = 1.0\n",
        "    \n",
        "    C2 = 0.666765791503 * u.Ba / u.K**2.5\n",
        "    \n",
        "    # Here, we define the matrix of coefficient as shown in class. \n",
        "    # First index is the row, second index is the column.\n",
        "    Coef_Mat = np.zeros((5,5))\n",
        "    Coef_Mat[0,0] = -1*T**2.5 * C2 / Ptot *uH0/uH1 *np.exp(-1*CH/T)\n",
        "    Coef_Mat[0,1] = E/(E+1)\n",
        "    Coef_Mat[1,0] = 1.0\n",
        "    Coef_Mat[1,1] = 1.0\n",
        "    Coef_Mat[2,2] = -1*T**2.5 * C2 / Ptot *uHe0/uHe1 *np.exp(-1*CHe/T)\n",
        "    Coef_Mat[2,3] = E/(E+1)\n",
        "    Coef_Mat[3,3] = -1*T**2.5 * C2 / Ptot *uHe1/uHe2 *np.exp(-1*CHe2/T)\n",
        "    Coef_Mat[3,4] = E/(E+1)\n",
        "    Coef_Mat[4,2] = 1\n",
        "    Coef_Mat[4,3] = 1\n",
        "    Coef_Mat[4,4] = 1\n",
        "    \n",
        "    # Here, we define the b array\n",
        "    b = np.array([0,1,0,0,1])\n",
        "    \n",
        "    # Using the numpy solve function, we find x such that M * x = b\n",
        "    sol = np.linalg.solve(Coef_Mat,b)\n",
        "    \n",
        "    # Now we use solution to calculate E with our unused equation\n",
        "    # If E_check is not the same as our input E, we need to change\n",
        "    # our input E.\n",
        "    mu_ion = 1.0/ (X+Y/4.0)\n",
        "    E_check = X*sol[1] + Y/4.0*(sol[3]+2.0*sol[4]) * mu_ion\n",
        "\n",
        "    return E_check, sol"
      ]
    },
    {
      "cell_type": "markdown",
      "metadata": {
        "id": "fFDnpIxRFVcd"
      },
      "source": [
        "## 1. Ionization of pure hydrogen"
      ]
    },
    {
      "cell_type": "markdown",
      "metadata": {
        "id": "B7kl3ZOBAjQk"
      },
      "source": [
        "### a. In class: Let's create a function to calculate the Solution to Saha for pure hydrogen\n",
        "\n",
        "We would like the function to accept an array of temperature (set in Kelvin with the astropy unit package), and return $n_{\\mathrm{H}^+}/n_\\mathrm{H}$.\n",
        "\n",
        "$$K_r^{r+1}(T,P) = \\frac{T^{5/2}}{P_\\mathrm{gas,tot}} e^{-\\chi_r/kT}\\frac{U^{r+1}(T,P)}{U^r(T,P)} \\left[\\frac{2(2\\pi m_e)^{3/2} k^{5/2}}{h^3}\\right]$$\n",
        "\n",
        "The partition function for neutral hydrogen H$^o$ can be calculated with the function `partition_H(T, smax=1)`. The partition function for $H^+$ is simply 1 (because it does not have any bound electrons) \n"
      ]
    },
    {
      "cell_type": "code",
      "execution_count": 4,
      "metadata": {
        "colab": {
          "base_uri": "https://localhost:8080/"
        },
        "id": "E7Gsy_b_AjQl",
        "outputId": "72d3d822-405d-405a-9371-1b9b62272dee"
      },
      "outputs": [
        {
          "name": "stdout",
          "output_type": "stream",
          "text": [
            "0.6667659447803991 Ba / K(5/2)\n",
            "157821.4464530811 K\n"
          ]
        }
      ],
      "source": [
        "# Let's calculate the value of the constant we need\n",
        "# so that the code doesn't have to recalculate it \n",
        "# every time.\n",
        "print( ( 2*(2* np.pi * const.m_e)**1.5 /const.h**3 * const.k_B**2.5 ).cgs )\n",
        "print( (13.6 *u.eV / const.k_B).decompose())\n",
        "\n",
        "#---------------------------------------\n",
        "#---------------------------------------\n",
        "# In class\n",
        "\n"
      ]
    },
    {
      "cell_type": "markdown",
      "metadata": {
        "id": "d_Vn80lZAjQm"
      },
      "source": [
        "### b. The variation of ionization as a function of temperature\n",
        "\n",
        ">**TODO**: In the cell below, I have already defined an array of temperatures from 1,000 to 30,000 K (using the astropy unit package). I also define a variable for a pressure of $10^4$ $dyn/cm^2$ (the name of that 'cgs' unit is a Barye, so you can use the shortcut `u.Ba`).\n",
        ">\n",
        ">Make a plot of the variation of $x_\\mathrm{H}^+$ ($=n_\\mathrm{H}^+/n_\\mathrm{H}$) as a function of temperature.\n",
        ">\n",
        ">Next, add a curve of $x_\\mathrm{H}^+$ as a function of temperature, for a different pressure (make sure to change the pressure by an amount that yields a different curve).\n",
        ">\n",
        ">Remember to label your axes and label your curve (look at the previous notebooks to see how)"
      ]
    },
    {
      "cell_type": "code",
      "execution_count": 5,
      "metadata": {
        "colab": {
          "base_uri": "https://localhost:8080/",
          "height": 324
        },
        "id": "RLs8dAhrAjQm",
        "outputId": "6b611a47-0411-4ebd-d1b8-2ac198a26c46"
      },
      "outputs": [
        {
          "data": {
            "image/png": "[encoded data removed]",
            "text/plain": [
              "<Figure size 800x500 with 1 Axes>"
            ]
          },
          "metadata": {},
          "output_type": "display_data"
        }
      ],
      "source": [
        "fig, ax = plt.subplots(1,1, figsize=(8,5))\n",
        "\n",
        "# Create a range of temperatures in Kelvin\n",
        "rangeT = np.linspace(1000,30000,100) * u.K\n",
        "\n",
        "# Define the pressure in dyn/cm2\n",
        "Ptot = 1e4 * u.Ba\n",
        "\n",
        "#---------------------------------------\n",
        "#---------------------------------------\n",
        "\n"
      ]
    },
    {
      "cell_type": "markdown",
      "metadata": {
        "id": "J5qiNgaaAjQn"
      },
      "source": [
        "> **TODO**: <font color='red'>Please write a small paragraph with an interpretation of the result obtained:</font>"
      ]
    },
    {
      "cell_type": "markdown",
      "metadata": {
        "id": "rX2G_dp-HUl4"
      },
      "source": [
        "## 2. Ionization of a mixture of H and He"
      ]
    },
    {
      "cell_type": "markdown",
      "metadata": {
        "id": "bwiPJd5HHqgm"
      },
      "source": [
        "### a. In class, demonstration of the iteration to find the right solution for $E$\n",
        "\n",
        "(for a given temperature and pressure)"
      ]
    },
    {
      "cell_type": "code",
      "execution_count": 6,
      "metadata": {
        "colab": {
          "base_uri": "https://localhost:8080/"
        },
        "id": "P9acXFO-HX7o",
        "outputId": "904306cb-4967-4a0a-d6bc-1ac4da3a681e"
      },
      "outputs": [
        {
          "name": "stdout",
          "output_type": "stream",
          "text": [
            "E: 0.806, H0: 0.000, H+: 1.000, He0: 0.271, He+: 0.729, He++: 0.000\n"
          ]
        }
      ],
      "source": [
        "T = 20000.0*u.K\n",
        "Ptot = 1e4 * u.Ba\n",
        "\n",
        "#---------------------------------------\n",
        "#---------------------------------------\n",
        "# In class\n",
        "\n",
        "E = 0.806\n",
        "#---------------------------------------\n",
        "\n",
        "newE, x = trial_saha(E, T, Ptot)\n",
        "\n",
        "print( 'E: {:0.3f}, H0: {:0.3f}, H+: {:0.3f}, He0: {:0.3f}, He+: {:0.3f}, He++: {:0.3f}'.format(newE, x[0], x[1], x[2], x[3], x[4]) )"
      ]
    },
    {
      "cell_type": "markdown",
      "metadata": {
        "id": "MSJqQwI7H-Vx"
      },
      "source": [
        "### b. Mini-project: make a graph of the ionization fractions of a H and He mixture as a function of temperature\n",
        "\n",
        ">**TODO:** \n",
        ">\n",
        ">Use the function described above to produce a plot of $x_{H}^{o}, x_{H}^{+}, x_{He}^{o}, x_{He}^{+}, x_{H}^{++}$ as a function of temperature, between 1000 K and 60,000 K.\n",
        ">\n",
        ">Let's assume that $P_\\mathrm{gas, tot} = 10^{4}$ $dyn/cm^2$, $X=0.75$, and $Y=0.25$.\n",
        ">\n",
        ">Although this can be done by manually finding the right value of $E$ for each temperature considered (i.e. writing it down for a large number of temperatures, and then making a plot from these values), I encourage you to think on how the use of loops, arrays, and nicely formatted output to compare the $E$ values, as it may save you a lot of time.\n",
        ">\n",
        ">An additional note: if you decide to use some code to automatically find the right value of $E$, you should known that using a condition like a == b is very strict and might be difficult to achive, as the two floating point numbers need to be exactly the same down to the computer's numerical precision. In practice, it is sometime useful to use a condition where |a-b| < a small tolerance value that is appropriate to the current problem. "
      ]
    },
    {
      "cell_type": "code",
      "execution_count": 7,
      "metadata": {
        "id": "FR-6VENOIkeD"
      },
      "outputs": [],
      "source": [
        "Ptot = 1e4 * u.Ba\n",
        "# Don't forget to define your temperature in Kelvin using * u.K.\n",
        "\n",
        "\n",
        "#---------------------------------------\n",
        "#---------------------------------------\n",
        "# At home\n"
      ]
    },
    {
      "cell_type": "markdown",
      "metadata": {
        "id": "413G8ptpJazJ"
      },
      "source": [
        "> **TODO**: <font color='red'>Please write a small paragraph with an interpretation of the result obtained:</font>"
      ]
    },
    {
      "cell_type": "code",
      "execution_count": null,
      "metadata": {
        "id": "IyubWZNbaNhM"
      },
      "outputs": [],
      "source": []
    }
  ],
  "metadata": {
    "anaconda-cloud": {},
    "colab": {
      "collapsed_sections": [
        "nM8Felk9AjQj",
        "0Sv7CZdoBGk-"
      ],
      "include_colab_link": true,
      "name": "07-SahaEquations.ipynb",
      "provenance": []
    },
    "kernelspec": {
      "display_name": "Python 3",
      "name": "python3"
    },
    "language_info": {
      "codemirror_mode": {
        "name": "ipython",
        "version": 3
      },
      "file_extension": ".py",
      "mimetype": "text/x-python",
      "name": "python",
      "nbconvert_exporter": "python",
      "pygments_lexer": "ipython3",
      "version": "3.9.18"
    }
  },
  "nbformat": 4,
  "nbformat_minor": 0
}
