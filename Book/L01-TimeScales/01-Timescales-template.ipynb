{
  "cells": [
    {
      "cell_type": "markdown",
      "metadata": {
        "id": "JvlvrobT8CzO"
      },
      "source": [
        "# <font color='purple'>01-Timescales</font>"
      ]
    },
    {
      "cell_type": "markdown",
      "metadata": {
        "id": "3TLjzlZn8CzY"
      },
      "source": [
        "## 1. Welcome to your notebooks!\n",
        "\n",
        "This is a markdown cell. \n",
        "\n",
        "It is a very flexible way to include explanations of the code cell that follows.\n",
        "\n",
        "It supports HTML type formatting. For example, here's a <font color='red'> sentence written in red </font>.\n",
        "\n",
        "It can also interpret latex commands for math symbols:\n",
        "\n",
        "$$ i \\hbar \\frac{\\partial}{\\partial t} \\Psi(\\mathbf{r}, t) = \\left[ -\\frac{\\hbar^2}{2\\mu}\\nabla^2 + V(\\mathbf{r}, t) \\right] \\Psi(\\mathbf{r}, t).$$\n",
        "\n",
        "Using one \\$ creates a inline equation or symbol e.g. $\\alpha=\\pi$.\n",
        "\n",
        "See a list of useful math symbols [here](https://www.math.uci.edu/~xiangwen/pdf/LaTeX-Math-Symbols.pdf)"
      ]
    },
    {
      "cell_type": "markdown",
      "metadata": {
        "id": "jXEgq5fE8CzZ"
      },
      "source": [
        "#### We start by importing the modules\n",
        "* Numpy -- operations on arrays and matrixes (and pi)\n",
        "* Astropy constants -- defines physical and astronomical constants\n",
        "* Astropy units -- defined quantities with units. We also import the CDS conversions\n",
        "\n",
        "\n",
        "> **Note:**<font color='blue'> To execute the code in a cell, use \"Shift - enter\"</font>"
      ]
    },
    {
      "cell_type": "code",
      "execution_count": 1,
      "metadata": {
        "collapsed": true,
        "id": "H9FW12D68Cza"
      },
      "outputs": [],
      "source": [
        "from astropy import constants as const\n",
        "import astropy.units as u\n",
        "from astropy.units import cds\n",
        "cds.enable() \n",
        "\n",
        "import numpy as np"
      ]
    },
    {
      "cell_type": "markdown",
      "metadata": {
        "id": "BwIHgY7h8Czc"
      },
      "source": [
        "Here's a few constants that we will need later"
      ]
    },
    {
      "cell_type": "code",
      "execution_count": 2,
      "metadata": {
        "id": "l3cSyAsR8Czc"
      },
      "outputs": [],
      "source": [
        "Lsun = const.L_sun.decompose()\n",
        "Msun = const.M_sun.decompose()\n",
        "Rsun = const.R_sun.decompose()\n",
        "G = const.G.decompose()\n",
        "c = const.c.decompose()"
      ]
    },
    {
      "cell_type": "markdown",
      "metadata": {
        "id": "3oZiA5I98Czd"
      },
      "source": [
        "## 2. Kelvin-Helmholtz timescale\n",
        "\n",
        "We want to find the potential energy with \n",
        "$$ \\Delta \\Omega = \\frac{3}{5} \\frac{G M_\\odot^2}{R_\\odot}$$\n",
        "\n",
        "Accordign to the virial theorem, half of the potential energy lost goes into termal energy, and the other half escapes into radiation. The Kelvin-Helmholtz timescale will therefore be:\n",
        "$$ \\frac{\\Delta \\Omega}{2 L_\\odot}$$"
      ]
    },
    {
      "cell_type": "code",
      "execution_count": 3,
      "metadata": {
        "id": "xBlzQ1Y-8Cze"
      },
      "outputs": [],
      "source": [
        "##################\n",
        "## In class\n",
        "\n"
      ]
    },
    {
      "cell_type": "markdown",
      "metadata": {
        "id": "h1e6D2At8Czh"
      },
      "source": [
        "> **TODO**: <font color='red'>Please write a small paragraph with an interpretation of the result obtained:</font>\n"
      ]
    },
    {
      "cell_type": "markdown",
      "metadata": {
        "id": "kEJ_h0Zu8Czj"
      },
      "source": [
        "## 3. Nuclear timescale\n",
        "\n",
        "> **TODO** <font color='red'>: Write a brief paragraph that describe the calculation we make below. Use Latex formatting to render the math</font>"
      ]
    },
    {
      "cell_type": "code",
      "execution_count": 4,
      "metadata": {
        "id": "hg_y55bt8Czl"
      },
      "outputs": [],
      "source": [
        "##################\n",
        "## In class\n"
      ]
    },
    {
      "cell_type": "markdown",
      "metadata": {
        "id": "mQZK1Jkl8Czm"
      },
      "source": [
        "> **TODO**: <font color='red'>Please write a small paragraph with an interpretation of the result obtained:</font>\n"
      ]
    },
    {
      "cell_type": "markdown",
      "metadata": {
        "id": "gu4crt4p8Czn"
      },
      "source": [
        "## 4. Hydrodynamic timescale\n",
        "> **TODO** <font color='red'>: Write a brief paragraph that describe the calculation we make below. Use Latex formatting to render the math</font>"
      ]
    },
    {
      "cell_type": "code",
      "execution_count": 5,
      "metadata": {
        "id": "m3-vNtPU8Czn"
      },
      "outputs": [],
      "source": [
        "##################\n",
        "## In class\n"
      ]
    },
    {
      "cell_type": "markdown",
      "metadata": {
        "collapsed": true,
        "id": "_5Sc9Tia8Czp"
      },
      "source": [
        "> **TODO**: <font color='red'>Please write a small paragraph with an interpretation of the result obtained:</font>\n"
      ]
    },
    {
      "cell_type": "markdown",
      "metadata": {
        "id": "RmWYBhui8Czp"
      },
      "source": [
        "## **5. Reading assignement: \"what can we measure about stars\"**\n",
        "\n",
        "In this graduate course, we are making an advanced physical and mathematical model of star. \n",
        "\n",
        "But it is still good to learn and/or remind ourselves about which physical characteristics of stars we can actually measure. You might have covered some of this in some details in previous physics or astro courses (at UD PHYS 133, 144, 333, or 469) -- but it is still a good idea to have a quick look at the suggested reading below before crafting your paragraph. "
      ]
    },
    {
      "cell_type": "markdown",
      "metadata": {
        "id": "bYPyxRQI8Czp"
      },
      "source": [
        "> **TODO**: <font color='red'>Have a look at section 5.2 of the Open Stack Astronomy online [textbook](https://openstax.org/books/astronomy/pages/5-2-the-electromagnetic-spectrum), and write a short conceptual paragraph about how the law of radiation allows astronomer to determine the temperature of stars. </font>"
      ]
    }
  ],
  "metadata": {
    "anaconda-cloud": {},
    "colab": {
      "include_colab_link": true,
      "name": "01-Timescales.ipynb",
      "provenance": []
    },
    "kernelspec": {
      "display_name": "Python 3",
      "name": "python3"
    },
    "language_info": {
      "codemirror_mode": {
        "name": "ipython",
        "version": 3
      },
      "file_extension": ".py",
      "mimetype": "text/x-python",
      "name": "python",
      "nbconvert_exporter": "python",
      "pygments_lexer": "ipython3",
      "version": "3.9.18"
    }
  },
  "nbformat": 4,
  "nbformat_minor": 0
}
