{
  "cells": [
    {
      "cell_type": "markdown",
      "metadata": {
        "id": "ZAgpGCGzPk64"
      },
      "source": [
        "# <font color='purple'>04-Polytropes</font> (Template)"
      ]
    },
    {
      "cell_type": "markdown",
      "metadata": {
        "id": "QatfFltLPk69"
      },
      "source": [
        "We start by importing the modules\n",
        "* Numpy -- operations on arrays and matrixes (and pi)\n",
        "* Matplotlib pyplot -- plotting library\n",
        "* Astropy units -- defined quantities with units. We also import the CDS conversions"
      ]
    },
    {
      "cell_type": "code",
      "execution_count": 8,
      "metadata": {
        "colab": {
          "base_uri": "https://localhost:8080/"
        },
        "id": "XrdDoLArPk6-",
        "outputId": "db1df80e-53e9-40a8-cc32-10521e985bcb"
      },
      "outputs": [
        {
          "data": {
            "text/plain": [
              "<astropy.units.core._UnitContext at 0x1104b49a0>"
            ]
          },
          "execution_count": 8,
          "metadata": {},
          "output_type": "execute_result"
        }
      ],
      "source": [
        "import numpy as np, copy\n",
        "import matplotlib.pyplot as plt\n",
        "%matplotlib inline\n",
        "from astropy import constants as const\n",
        "import astropy.units as u\n",
        "from astropy.units import cds\n",
        "cds.enable() "
      ]
    },
    {
      "cell_type": "markdown",
      "metadata": {
        "id": "wyws32tsPk7A"
      },
      "source": [
        "## 1. Below are a few functions that we will need -- please execute them"
      ]
    },
    {
      "cell_type": "markdown",
      "metadata": {
        "id": "kMmsos3SPk7A"
      },
      "source": [
        "### a. MESA evolution code\n",
        "\n",
        "MESA is an open-source code that performs detailed calculations for the structure and evolution of stars. Throughout the course, we will be using models calcualted with MESA -- if you are interested, you can find more details here: http://mesastar.org/. \n",
        "\n",
        "And here's a little function that will allow you to read a Solar model calculated from the MESA code."
      ]
    },
    {
      "cell_type": "code",
      "execution_count": 9,
      "metadata": {
        "collapsed": true,
        "id": "c4HbBvuxPk7B"
      },
      "outputs": [],
      "source": [
        "def read_model(file):\n",
        "\n",
        "    cols = np.array([1,2,3,4,5,29,66])-1\n",
        "    return np.genfromtxt(file, skip_header=5, names=True, usecols = cols)"
      ]
    },
    {
      "cell_type": "markdown",
      "metadata": {
        "id": "oApK2UhVPk7B"
      },
      "source": [
        "### b. Numerical solution of the Lane-Emden equation\n",
        "\n",
        "Here I provide a function to numerically calculate the $\\theta(\\epsilon)$ function for a polytropic index $n>1$, such that\n",
        "\n",
        "$$\\rho(r) = \\rho_c \\theta(r)^n.$$\n",
        "\n",
        "If you are interested in the numerical procedure, see Hansen & Kawaler sec 7.2.2."
      ]
    },
    {
      "cell_type": "code",
      "execution_count": 10,
      "metadata": {
        "collapsed": true,
        "id": "TdP4QLJ-Pk7C"
      },
      "outputs": [],
      "source": [
        "def Lane_zp(x, y, z, n):\n",
        "    if y < 0:\n",
        "        y = 0\n",
        "    return -2.0 * z / x - y**n\n",
        "\n",
        "def poly_num(n, h=0.01, x_end=16.0, xinit=0.00001):\n",
        "    # Initialize the step and the ending eps value\n",
        "    # n: polytrope index\n",
        "    # h: 0.05 step size\n",
        "    # x_end: 16.0 \n",
        "\n",
        "    # Initialize the starting value\n",
        "    x = xinit\n",
        "    y = 1 - ( 1.0/6.0 * x**2)  + ( n/120.0 * x**4 ) - ( n*(8*n-5)/15120.0 * x**6 )\n",
        "    z = - ( 1.0/6.0 * 2 * x ) + ( n/120.0 * 4 * x**3 )  - ( n*(8*n-5)/15120.0 * 6 * x**5 )\n",
        "    zp = - ( 1.0/6.0 * 2 ) + ( n/120.0 * 12 * x**2 )  - ( n*(8*n-5)/15120.0 * 6*5 * x**4 )\n",
        "\n",
        "    eps = np.array([h])\n",
        "    theta = np.array([y])\n",
        "    theta_prim = np.array([z])\n",
        "\n",
        "    # Make the calculation until we reach X_end, of theta goes to zero\n",
        "    while (x < x_end) and (y>0):\n",
        "    \n",
        "        K1 = h * z\n",
        "        L1 = h * Lane_zp(x, y, z, n)\n",
        "        K2 = h * (z + L1/2.0)\n",
        "        L2 = h * Lane_zp(x+h/2.0, y+K1/2.0, z+L1/2.0, n)\n",
        "        K3 = h * (z + L2/2.0)\n",
        "        L3 = h * Lane_zp(x+h/2.0, y+K2/2.0, z+L2/2.0, n)\n",
        "        K4 = h * (z + L3/2.0)\n",
        "        L4 = h * Lane_zp(x+h, y+K3, z+L3, n)\n",
        "    \n",
        "        y = y + K1/6.0 + K2/3.0 + K3/3.0 + K4/6.0\n",
        "        z = z + L1/6.0 + L2/3.0 + L3/3.0 + L4/6.0\n",
        "    \n",
        "        x = x+h\n",
        "    \n",
        "        eps = np.append(eps, x)\n",
        "        theta = np.append(theta, y)\n",
        "        theta_prim = np.append(theta_prim, z)\n",
        "        \n",
        "    return eps[0:eps.size-1], theta[0:theta.size-1], theta_prim[0:theta_prim.size-1]"
      ]
    },
    {
      "cell_type": "markdown",
      "metadata": {
        "id": "J1lDZh5vQMsk"
      },
      "source": [
        "## 2. Analytical solutions for polytrops"
      ]
    },
    {
      "cell_type": "markdown",
      "metadata": {
        "id": "oXOWUAomPk7D"
      },
      "source": [
        "### a. Let's define some function that return $\\theta(r)$ for the analytical solutions of the Lane-Emden equation\n",
        "\n",
        "For n = 0,\n",
        "\n",
        "$$\\theta(\\epsilon) = 1 - \\frac{\\epsilon^2}{6}.$$\n",
        "\n",
        "For n = 1, \n",
        "\n",
        "$$\\theta(\\epsilon) = \\frac{\\sin \\epsilon}{\\epsilon}$$\n",
        "\n",
        "For n = 5,\n",
        "\n",
        "$$\\theta(\\epsilon) = \\frac{1.0}{(1.0+\\epsilon^{2}/3)^{1/2}}$$"
      ]
    },
    {
      "cell_type": "code",
      "execution_count": 11,
      "metadata": {
        "collapsed": true,
        "id": "YIdvSo5WPk7E"
      },
      "outputs": [],
      "source": [
        "#-------------------------------------------------------\n",
        "# In class: we will learn how to define functions\n",
        "\n"
      ]
    },
    {
      "cell_type": "markdown",
      "metadata": {
        "id": "jOBE-FilPk7F"
      },
      "source": [
        "### b. Let's now look at what these solutions look like\n",
        "\n",
        "We will first plot the analytic solutions, and then compare to the numerical solutions.\n",
        "\n",
        "> **TODO** from now on: <font color='red'>please properly label the figure axes for your all of your notebooks</font>"
      ]
    },
    {
      "cell_type": "code",
      "execution_count": 12,
      "metadata": {
        "colab": {
          "base_uri": "https://localhost:8080/",
          "height": 329
        },
        "id": "Q8hM5-kHPk7F",
        "outputId": "e7222374-00fc-4905-e0c8-4f295a8a3993"
      },
      "outputs": [
        {
          "name": "stderr",
          "output_type": "stream",
          "text": [
            "No artists with labels found to put in legend.  Note that artists whose label start with an underscore are ignored when legend() is called with no argument.\n"
          ]
        },
        {
          "data": {
            "text/plain": [
              "Text(26.597222222222214, 0.5, '$\\\\theta(r)$')"
            ]
          },
          "execution_count": 12,
          "metadata": {},
          "output_type": "execute_result"
        },
        {
          "data": {
            "image/png": "[encoded data removed]",
            "text/plain": [
              "<Figure size 600x400 with 1 Axes>"
            ]
          },
          "metadata": {},
          "output_type": "display_data"
        }
      ],
      "source": [
        "fig, ax = plt.subplots(1,1,figsize=(6,4))\n",
        "plt.rcParams.update({'font.size': 15})\n",
        "\n",
        "ax.set_ylim(0,1)\n",
        "#---------------------------------------\n",
        "#---------------------------------------\n",
        "# In class\n",
        "\n",
        "######################\n",
        "# Analytical solutions\n",
        "\n",
        "# Define a set of eps values\n",
        "\n",
        "######################\n",
        "\n",
        "\n",
        "\n",
        "\n",
        "\n",
        "######################\n",
        "# numerical solutions\n",
        "######################\n",
        "\n",
        "# the function poly_num(n) will return\n",
        "# an array of eps values, an array of theta values, \n",
        "# and an array of dTheta/dEps.\n",
        "# The last element of the array is eps_1 (if n<5)\n",
        "\n",
        "\n",
        "\n",
        "    \n",
        "\n",
        "#---------------------------------------\n",
        "#---------------------------------------\n",
        "ax.legend(loc=0, fontsize=15)\n",
        "plt.tight_layout()\n",
        "#-----------------------------------------\n",
        "# Not included, they can do this themselves from now on. \n",
        "ax.set_xlabel(r'$\\epsilon$')\n",
        "ax.set_ylabel(r'$\\theta(r)$')"
      ]
    },
    {
      "cell_type": "markdown",
      "metadata": {
        "id": "OLS_YsrXPk7G"
      },
      "source": [
        "> **TODO**: <font color='red'>Please write a small paragraph with an interpretation of the result obtained:</font>"
      ]
    },
    {
      "cell_type": "markdown",
      "metadata": {
        "id": "NV-qJEQCPk7G"
      },
      "source": [
        "## 3. Comparison with the density profile of the Sun"
      ]
    },
    {
      "cell_type": "markdown",
      "metadata": {
        "id": "mfR9zZ6_Pk7G"
      },
      "source": [
        "### a.  In class: what does the density profile look like for various polytropes compared to the Sun?\n",
        "\n",
        "I provide you with a plot of $\\rho / \\rho_c$ for a detailed model of the Sun, calculated by MESA.\n",
        "\n",
        "The numerical calculation returns $\\epsilon$ and $\\theta(\\epsilon)$. We need to transform these into $r/R_\\star$ and $\\rho/\\rho_c$.\n",
        "\n",
        "> **TODO** <font color='red'>: Summarize the procedure here in words and math. Use Latex formatting to render the math</font>"
      ]
    },
    {
      "cell_type": "markdown",
      "metadata": {
        "id": "Zv0AT986PDNX"
      },
      "source": [
        "> **TODO**: <font color=\"red\">Using the code below, find out which polytropic index $n$ is a best match for the Sun. (Note that the polytropic index can be a fractional number)</font>"
      ]
    },
    {
      "cell_type": "code",
      "execution_count": 13,
      "metadata": {
        "colab": {
          "base_uri": "https://localhost:8080/",
          "height": 356
        },
        "id": "dxl_zeyFPk7H",
        "outputId": "1e2290fd-64d5-43c1-f080-6b8d534c0bfc"
      },
      "outputs": [
        {
          "data": {
            "image/png": "[encoded data removed]",
            "text/plain": [
              "<Figure size 600x400 with 1 Axes>"
            ]
          },
          "metadata": {},
          "output_type": "display_data"
        }
      ],
      "source": [
        "fig, ax = plt.subplots(1,1,figsize=(6,4))\n",
        "plt.rcParams.update({'font.size': 15})\n",
        "\n",
        "ax.set_xlabel(r'$R / R_\\odot$')\n",
        "ax.set_ylabel(r'$\\rho / \\rho_c$')\n",
        "ax.set_xlim(0,1)\n",
        "ax.set_ylim(0,1)\n",
        "\n",
        "# MESA solar model\n",
        "mesa = read_model('https://raw.githubusercontent.com/veropetit/PHYS633-F2024/main/Book/L04andL05-Polytropes/04-MESAdatafile.txt')\n",
        "# In the mesa model, the first element [0] correspond to the surface, \n",
        "# and the last element [mesa.size-1] correspond to the center.\n",
        "mesa_r = 10**(mesa['logR']-mesa['logR'][0])\n",
        "mesa_rho =  10**(mesa['logRho']-mesa['logRho'][mesa.size-1]) # the density is given in cgs\n",
        "ax.plot(mesa_r, mesa_rho, c=\"red\", lw=2, label='MESA')\n",
        "\n",
        "#---------------------------------------\n",
        "#---------------------------------------\n",
        "# In class\n",
        "\n",
        "# numerical solutions\n",
        "\n",
        "    \n",
        "    \n",
        "    \n",
        "#---------------------------------------   \n",
        "#---------------------------------------\n",
        "ax.legend(loc=0, fontsize=15)\n",
        "plt.tight_layout()"
      ]
    },
    {
      "cell_type": "markdown",
      "metadata": {
        "id": "wnIqbLZaPk7H"
      },
      "source": [
        "> **TODO**: <font color='red'>Please write a small paragraph with an interpretation of the result obtained:</font>\n",
        "\n"
      ]
    },
    {
      "cell_type": "markdown",
      "metadata": {
        "id": "TEDR42VnPk7H"
      },
      "source": [
        "### b. At home: what is the central density for these polytropes?\n",
        "\n",
        "In the plot below, I show the density, in $\\mathrm{g}/\\mathrm{cm}^3$, of the the detailed MESA solar model. \n",
        " \n",
        "> **TODO** In order to transform $\\rho/\\rho_c$ from above into a numerical density, you need to find the central density in $\\mathrm{g}/\\mathrm{cm}^3$. \n",
        ">\n",
        "> **Hint**: before coding like a maniac, find an expression for the central density that is a function of only $M_\\odot$ and $R_\\odot$ -- it becomes a much elegant expression with a cool meaning, if you remember that an average density of total volume / total mass...\n",
        ">\n",
        "> Include your derivation here (you can start from the set of 3 equations that are on the last slide from class).\n",
        "\n",
        " \n",
        " "
      ]
    },
    {
      "cell_type": "markdown",
      "metadata": {
        "id": "sVg8DGsDgwGo"
      },
      "source": [
        "> **TODO**: in the code below, add curves for a few values of $n$, like we did in part 3a. Then find visualy the $n$ index that matches the central density of the sun the best. Use the astropy unit and constant packages, like we did on Tuesday.\n",
        "\n",
        "Note that the numerical solution, the function poly_num(n) will return: \n",
        "1. an array of $\\epsilon$ values, \n",
        "2. an array of $\\theta(\\epsilon)$ values, \n",
        "3. an array of $\\frac{d\\theta(\\epsilon)}{d\\epsilon}$ (or $\\theta'(\\epsilon)$)\n",
        "\n",
        "The last element of the arrays correspond to $\\epsilon_1$ (if $n<5$). Therefore the element `theta_p[-1]` corresponds to $\\theta'(\\epsilon_1)$"
      ]
    },
    {
      "cell_type": "code",
      "execution_count": 14,
      "metadata": {
        "colab": {
          "base_uri": "https://localhost:8080/",
          "height": 280
        },
        "id": "5mnMMksTPk7I",
        "outputId": "c602685e-4074-4758-fb8e-2058c5cdf569"
      },
      "outputs": [
        {
          "data": {
            "image/png": "[encoded data removed]",
            "text/plain": [
              "<Figure size 600x400 with 1 Axes>"
            ]
          },
          "metadata": {},
          "output_type": "display_data"
        }
      ],
      "source": [
        "fig, ax = plt.subplots(1,1,figsize=(6,4))\n",
        "plt.rcParams.update({'font.size': 15})\n",
        "\n",
        "ax.set_xlim(0,1)\n",
        "ax.set_ylim(0,300)\n",
        "\n",
        "# MESA solar model\n",
        "mesa = read_model('https://raw.githubusercontent.com/veropetit/PHYS633-F2024/main/Book/L04andL05-Polytropes/04-MESAdatafile.txt')\n",
        "# In the mesa model, the first element [0] correspond to the surface, \n",
        "# and the last element [mesa.size-1] correspond to the center.\n",
        "mesa_r = 10**(mesa['logR']-mesa['logR'][0])\n",
        "mesa_rho =  10**(mesa['logRho']) # the density is in cgs units.\n",
        "ax.plot(mesa_r, mesa_rho, c=\"red\", lw=2, label='MESA')\n",
        "\n",
        "ax.set_xlabel(r'$R / R_\\odot$')\n",
        "ax.set_ylabel(r'$\\rho$ (g/cm$^3$)')\n",
        "\n",
        "#---------------------------------------\n",
        "#---------------------------------------\n",
        "# at home\n",
        "\n",
        "\n",
        "\n",
        "\n",
        "\n",
        "\n",
        "#-----------------------------\n",
        "ax.legend(loc=0, fontsize=15)\n",
        "plt.tight_layout()"
      ]
    },
    {
      "cell_type": "markdown",
      "metadata": {
        "collapsed": true,
        "id": "KYlm2mzsPk7I"
      },
      "source": [
        "> **TODO**: <font color='red'>Please write a small paragraph with an interpretation of the result obtained:</font>"
      ]
    },
    {
      "cell_type": "markdown",
      "metadata": {
        "id": "z6zW8EHZhkQd"
      },
      "source": [
        "## 4. Learning reflection\n",
        "\n",
        "> **TODO**: <font color='red'>Please write a small reflection on what you have learned and why. \n",
        "> \n",
        "> Suggestions: how does this notebook provide practice for the learning goal of this lecture? how does this topic fits within the learning goals of this course (could be science and/or techniques!), and how does it relates to other things that you have learned in other courses? "
      ]
    }
  ],
  "metadata": {
    "anaconda-cloud": {},
    "colab": {
      "collapsed_sections": [
        "kMmsos3SPk7A",
        "oApK2UhVPk7B"
      ],
      "include_colab_link": true,
      "name": "04-Polytrops.ipynb",
      "provenance": []
    },
    "kernelspec": {
      "display_name": "Python 3",
      "name": "python3"
    },
    "language_info": {
      "codemirror_mode": {
        "name": "ipython",
        "version": 3
      },
      "file_extension": ".py",
      "mimetype": "text/x-python",
      "name": "python",
      "nbconvert_exporter": "python",
      "pygments_lexer": "ipython3",
      "version": "3.9.18"
    }
  },
  "nbformat": 4,
  "nbformat_minor": 0
}
