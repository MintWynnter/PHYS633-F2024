{
  "cells": [
    {
      "cell_type": "markdown",
      "metadata": {
        "id": "VfwU62skeU6P"
      },
      "source": [
        "# <font color=\"purple\">19-Convection</font> (template)\n"
      ]
    },
    {
      "cell_type": "markdown",
      "metadata": {
        "id": "BnnFToYAeU6T"
      },
      "source": [
        "We start by importing the modules\n",
        "* Numpy -- operations on arrays and matrixes (and pi)\n",
        "* Matplotlib pyplot -- plotting library\n",
        "* Astropy units -- defined quantities with units. We also import the CDS conversions"
      ]
    },
    {
      "cell_type": "code",
      "execution_count": 1,
      "metadata": {
        "id": "LyUVrG-4eU6U"
      },
      "outputs": [],
      "source": [
        "import matplotlib.pyplot as plt\n",
        "import numpy as np, copy\n",
        "%matplotlib inline\n",
        "\n",
        "from astropy import constants as const\n",
        "import astropy.units as u\n",
        "from astropy.units import cds\n",
        "cds.enable() \n",
        "\n",
        "import matplotlib.colors as cl\n",
        "from matplotlib.collections import LineCollection"
      ]
    },
    {
      "cell_type": "markdown",
      "metadata": {
        "id": "j1cJUxykeU6W"
      },
      "source": [
        "## 1. To execute: Opening Mesa structure models\n",
        "\n",
        "We have been using models from the MESA structure and evolution code already. Please take some time to read the paper describing the code: http://iopscience.iop.org/article/10.1088/0067-0049/192/1/3/pdf. (Note, make sure to download it while on campus for free access).\n",
        "\n",
        "You can open the file with text edit, and you can see that it contains a whole set of columns with the values of parameters at different depths in the star.\n",
        "\n",
        "For this notebook, I provide you with two models:\n",
        "1. present-day model of the Sun (19-Sun-profile.data)\n",
        "2. model of a star with an initial mass of 10$M_\\odot$, as a similar evolution stage (19-M10-profile.data)\n",
        "\n",
        "The function below reads in a MESA model into a numpy \"rec array\".  "
      ]
    },
    {
      "cell_type": "code",
      "execution_count": 2,
      "metadata": {
        "collapsed": true,
        "id": "hEi1kJMpeU6Y"
      },
      "outputs": [],
      "source": [
        "def read_model(file):\n",
        "\n",
        "    return np.genfromtxt(file, skip_header=5, names=True)"
      ]
    },
    {
      "cell_type": "markdown",
      "metadata": {
        "id": "R3JBi4iKeU6Y"
      },
      "source": [
        "Here's a command that will show you the names of all the columns in the file. You can access a column by doing: data['column name']."
      ]
    },
    {
      "cell_type": "code",
      "execution_count": 3,
      "metadata": {
        "colab": {
          "base_uri": "https://localhost:8080/"
        },
        "id": "UEEVwWO-eU6Z",
        "outputId": "95a8c6ca-5c3a-428a-db24-9db89dfb9263"
      },
      "outputs": [
        {
          "name": "stdout",
          "output_type": "stream",
          "text": [
            "('zone', 'logT', 'logRho', 'logP', 'logR', 'luminosity', 'eps_grav', 'signed_log_eps_grav', 'net_energy', 'signed_log_power', 'velocity', 'entropy', 'mixing_type', 'csound', 'v_div_csound', 'eta', 'mu', 'logdq', 'dq_ratio', 'q', 'log_q', 'radius', 'rmid', 'temperature', 'tau', 'logtau', 'pressure', 'pgas_div_ptotal', 'logPgas', 'grada', 'free_e', 'x_mass_fraction_H', 'y_mass_fraction_He', 'z_mass_fraction_metals', 'abar', 'ye', 'log_opacity', 'eps_nuc', 'd_lnepsnuc_dlnd', 'd_lnepsnuc_dlnT', 'non_nuc_neu', 'mlt_mixing_length', 'mlt_mixing_type', 'gradT_sub_grada', 'gradT_div_grada', 'log_mlt_Gamma', 'log_D_mix', 'log_conv_vel', 'conv_vel_div_csound', 'log_mlt_D_mix', 'pressure_scale_height', 'gradT', 'gradr', 'mass', 'logxq', 'logxm', 'x', 'y', 'z', 'h1', 'he3', 'he4', 'c12', 'n14', 'o16', 'o18', 'ne20', 'ne22', 'mg24', 'pp', 'cno', 'tri_alfa', 'burn_c', 'burn_n', 'burn_o', 'burn_ne', 'burn_na', 'burn_mg', 'burn_si', 'burn_s', 'burn_ar', 'burn_ca', 'burn_ti', 'burn_cr', 'burn_fe', 'c12_c12', 'c12_o16', 'o16_o16', 'pnhe4', 'photo', 'other')\n"
          ]
        }
      ],
      "source": [
        "file_url = 'https://raw.githubusercontent.com/veropetit/PHYS633-F2024/main/Book/L19-Convection/19-Sun-profile8.data'\n",
        "\n",
        "data = read_model(file_url)\n",
        "\n",
        "print(data.dtype.names)"
      ]
    },
    {
      "cell_type": "markdown",
      "metadata": {
        "id": "Eg7V5Te5eU6b"
      },
      "source": [
        "## 2. To execute: I will show you how to use a quite nifty function that creates colored lines"
      ]
    },
    {
      "cell_type": "code",
      "execution_count": 4,
      "metadata": {
        "collapsed": true,
        "id": "TGisOu7zeU6c"
      },
      "outputs": [],
      "source": [
        "def color_lines(x, y, z, min_col, max_col, cmap):\n",
        "    points = np.array([x, y]).T.reshape(-1, 1, 2)\n",
        "\n",
        "    segments = np.concatenate([points[:-1], points[1:]], axis=1)\n",
        "\n",
        "    lc = LineCollection(segments, cmap=plt.get_cmap(cmap),\n",
        "                    norm=plt.Normalize(min_col, max_col))\n",
        "    lc.set_array(z)\n",
        "    lc.set_linewidth(2)\n",
        "    \n",
        "    return lc"
      ]
    },
    {
      "cell_type": "markdown",
      "metadata": {
        "id": "cZmQCODteU6d"
      },
      "source": [
        "Here I create a color map that is called cm_plusmin, by defining 256 RGB values.\n",
        "\n",
        "This is taken from an excellent compilation of B&W and color-blind friendly color maps: https://personal.sron.nl/~pault/"
      ]
    },
    {
      "cell_type": "code",
      "execution_count": 5,
      "metadata": {
        "id": "bz4W7RCHeU6e"
      },
      "outputs": [],
      "source": [
        "cols = []\n",
        "for x in np.linspace(0,1, 256):\n",
        "    rcol = 0.237 - 2.13*x + 26.92*x**2 - 65.5*x**3 + 63.5*x**4 - 22.36*x**5\n",
        "    gcol = ((0.572 + 1.524*x - 1.811*x**2)/(1 - 0.291*x + 0.1574*x**2))**2\n",
        "    bcol = 1/(1.579 - 4.03*x + 12.92*x**2 - 31.4*x**3 + 48.6*x**4 - 23.36*x**5)\n",
        "    cols.append((rcol, gcol, bcol))\n",
        "\n",
        "cm_plusmin = cl.LinearSegmentedColormap.from_list(\"PaulT_plusmin\", cols)"
      ]
    },
    {
      "cell_type": "markdown",
      "metadata": {
        "id": "dw5xQtlWeU6f"
      },
      "source": [
        "## 3. Let's first look at the opacity inside of stars. \n",
        "\n",
        "As we discussed in class, the convection is more likely when the $\\nabla_\\mathrm{rad}$ ($=\\nabla_\\mathrm{med}$) is large. \n",
        "\n",
        "As the opacity is part of the equation for $\\nabla_\\mathrm{rad}$, it would be a good idea to see how it varies inside of stars. \n",
        "\n",
        "We will look at a graph of $\\log(T)$ versus $\\log(\\rho)$, which will also be very useful to visualize the radial profile of stars of various masses. \n",
        "\n",
        "### a. In class: we will do the Sun.\n",
        "\n",
        "### b. At home: add a colored line for the $10 M_\\odot$ model. \n",
        "\n",
        "> **TODO**: Add a colored line in the graph for the $10 M_\\odot$ model. Dont' forget to label your axes."
      ]
    },
    {
      "cell_type": "code",
      "execution_count": 6,
      "metadata": {
        "colab": {
          "base_uri": "https://localhost:8080/",
          "height": 335
        },
        "id": "lVdBmf5xeU6f",
        "outputId": "7faf5760-8b4d-46cb-8473-22c452bc2aae"
      },
      "outputs": [
        {
          "data": {
            "image/png": "[encoded data removed]",
            "text/plain": [
              "<Figure size 600x500 with 1 Axes>"
            ]
          },
          "metadata": {},
          "output_type": "display_data"
        }
      ],
      "source": [
        "fig, ax = plt.subplots(1,1, figsize=(6,5))\n",
        "\n",
        "ax.set_xlim(-10,4)\n",
        "ax.set_ylim(3,8)\n",
        "\n",
        "# Define the min and max values for the color range\n",
        "min_col = -6\n",
        "max_col = 6\n",
        "\n",
        "###########################\n",
        "###########################\n",
        "# In class\n",
        "\n",
        "file_url = 'https://raw.githubusercontent.com/veropetit/PHYS633-F2024/main/Book/L19-Convection/19-Sun-profile8.data'\n",
        "\n",
        "# Create a line collection for the solar model\n",
        "\n",
        "\n",
        "# Add dashed lines to show the data better\n",
        "\n",
        "\n",
        "# Add a color bar and a label\n",
        "\n",
        "\n",
        "\n",
        "###########################\n",
        "###########################\n",
        "# At home: add the colored line for the M10 model.\n",
        "\n",
        "file_url = 'https://raw.githubusercontent.com/veropetit/PHYS633-F2024/main/Book/L19-Convection/19-M10-profile8.data'\n",
        "\n",
        "# Create a line collection for the 10Msun model\n",
        "\n",
        "\n"
      ]
    },
    {
      "cell_type": "markdown",
      "metadata": {
        "id": "3DuCbD39eU6g"
      },
      "source": [
        "> **TODO**: Interpretatation:\n",
        ">\n",
        ">1. In the graph, which end of the curves represents the stellar surface?\n",
        ">\n",
        ">2. How does the opacity compares with Fig. 3 of Paxton et al. 2011?\n",
        ">\n",
        ">3. Comment on the change in opacity as a function of position inside of the star for each model. This will be useful for your intrepretation of #4"
      ]
    },
    {
      "cell_type": "markdown",
      "metadata": {
        "id": "0ueJKACoeU6h"
      },
      "source": [
        "## 4. Convections in main sequence stars.\n",
        "\n",
        "In the models, the values of $\\nabla_\\mathrm{real}$, $\\nabla_\\mathrm{rad}$ ($=\\nabla_\\mathrm{medium}$), and $\\nabla_\\mathrm{ad}$ are in columns named `gradT`, `gradr`, and `grada`, respectively. \n",
        "\n",
        "Note: the radius is in units of solar radii for all models. \n",
        "\n",
        "\n",
        "### a. In class: Let's see how these look in a solar model.\n",
        "\n",
        "### b. At home: Do the same for the 10$M_\\odot$ model.\n",
        "\n",
        "> **TODO** Do the same for the 10$M_\\odot$ model in the right-hand plot. Don't forget to label your axes and add legend items for each curves"
      ]
    },
    {
      "cell_type": "code",
      "execution_count": 7,
      "metadata": {
        "colab": {
          "base_uri": "https://localhost:8080/",
          "height": 335
        },
        "id": "mnx0E2KWeU6h",
        "outputId": "32775df1-972b-4850-869d-ead994feac4a"
      },
      "outputs": [
        {
          "data": {
            "image/png": "[encoded data removed]",
            "text/plain": [
              "<Figure size 1500x600 with 2 Axes>"
            ]
          },
          "metadata": {},
          "output_type": "display_data"
        }
      ],
      "source": [
        "fig, ax = plt.subplots(1,2, figsize=(15,6))\n",
        "\n",
        "\n",
        "\n",
        "###########################\n",
        "###########################\n",
        "# In class\n",
        "file_url = 'https://raw.githubusercontent.com/veropetit/PHYS633-F2024/main/Book/L19-Convection/19-Sun-profile8.data'\n",
        "\n",
        "\n",
        "\n",
        "\n",
        "###########################\n",
        "###########################\n",
        "# At home\n",
        "file_url = 'https://raw.githubusercontent.com/veropetit/PHYS633-F2024/main/Book/L19-Convection/19-M10-profile8.data'\n",
        "\n",
        "\n"
      ]
    },
    {
      "cell_type": "markdown",
      "metadata": {
        "id": "n9-kUjfXeU6i"
      },
      "source": [
        "> **TODO**: <font color=\"red\">Interpretation:</font> \n",
        ">\n",
        ">1. For each star, where is the condition for instability fulfilled?\n",
        ">2. For each star, explain the behavior of the real temperature gradient outside of the core (in other words, which term in the equation for $\\nabla_\\mathrm{rad}$ makes the most difference between a sun-like and high mass star?).\n",
        ">3. There is a very famous graph in the Kippenhahn (22.7 in first edition, reproduced in the lecture slides). Based on this graph and the ones you just made, comment on the change in energy transport as a function of stellar mass.  "
      ]
    },
    {
      "cell_type": "code",
      "execution_count": null,
      "metadata": {
        "id": "c3jQv3WD0c93"
      },
      "outputs": [],
      "source": []
    }
  ],
  "metadata": {
    "anaconda-cloud": {},
    "colab": {
      "collapsed_sections": [
        "j1cJUxykeU6W",
        "Eg7V5Te5eU6b"
      ],
      "include_colab_link": true,
      "name": "18-Convection.ipynb",
      "provenance": []
    },
    "kernelspec": {
      "display_name": "py39",
      "language": "python",
      "name": "python3"
    },
    "language_info": {
      "codemirror_mode": {
        "name": "ipython",
        "version": 3
      },
      "file_extension": ".py",
      "mimetype": "text/x-python",
      "name": "python",
      "nbconvert_exporter": "python",
      "pygments_lexer": "ipython3",
      "version": "3.9.18"
    }
  },
  "nbformat": 4,
  "nbformat_minor": 0
}
